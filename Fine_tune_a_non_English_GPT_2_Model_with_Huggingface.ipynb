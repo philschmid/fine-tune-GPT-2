{
  "nbformat": 4,
  "nbformat_minor": 0,
  "metadata": {
    "colab": {
      "name": "Fine-tune a non-English GPT-2 Model with Huggingface",
      "provenance": [],
      "include_colab_link": true
    },
    "kernelspec": {
      "name": "python3",
      "display_name": "Python 3"
    },
    "accelerator": "GPU",
    "widgets": {
      "application/vnd.jupyter.widget-state+json": {
        "5cef0f1aeff04438953bf62e2f2f65b6": {
          "model_module": "@jupyter-widgets/controls",
          "model_name": "HBoxModel",
          "state": {
            "_view_name": "HBoxView",
            "_dom_classes": [],
            "_model_name": "HBoxModel",
            "_view_module": "@jupyter-widgets/controls",
            "_model_module_version": "1.5.0",
            "_view_count": null,
            "_view_module_version": "1.5.0",
            "box_style": "",
            "layout": "IPY_MODEL_0bee0fef329544629a0ada783f6acfbd",
            "_model_module": "@jupyter-widgets/controls",
            "children": [
              "IPY_MODEL_a4cab5f0b8464135bf1595e1ad681614",
              "IPY_MODEL_3ecaa2a7773c40949f303d713a8ca91a"
            ]
          }
        },
        "0bee0fef329544629a0ada783f6acfbd": {
          "model_module": "@jupyter-widgets/base",
          "model_name": "LayoutModel",
          "state": {
            "_view_name": "LayoutView",
            "grid_template_rows": null,
            "right": null,
            "justify_content": null,
            "_view_module": "@jupyter-widgets/base",
            "overflow": null,
            "_model_module_version": "1.2.0",
            "_view_count": null,
            "flex_flow": null,
            "width": null,
            "min_width": null,
            "border": null,
            "align_items": null,
            "bottom": null,
            "_model_module": "@jupyter-widgets/base",
            "top": null,
            "grid_column": null,
            "overflow_y": null,
            "overflow_x": null,
            "grid_auto_flow": null,
            "grid_area": null,
            "grid_template_columns": null,
            "flex": null,
            "_model_name": "LayoutModel",
            "justify_items": null,
            "grid_row": null,
            "max_height": null,
            "align_content": null,
            "visibility": null,
            "align_self": null,
            "height": null,
            "min_height": null,
            "padding": null,
            "grid_auto_rows": null,
            "grid_gap": null,
            "max_width": null,
            "order": null,
            "_view_module_version": "1.2.0",
            "grid_template_areas": null,
            "object_position": null,
            "object_fit": null,
            "grid_auto_columns": null,
            "margin": null,
            "display": null,
            "left": null
          }
        },
        "a4cab5f0b8464135bf1595e1ad681614": {
          "model_module": "@jupyter-widgets/controls",
          "model_name": "FloatProgressModel",
          "state": {
            "_view_name": "ProgressView",
            "style": "IPY_MODEL_f9803155bbb04ceb8c6f558624953e89",
            "_dom_classes": [],
            "description": "Downloading: 100%",
            "_model_name": "FloatProgressModel",
            "bar_style": "success",
            "max": 666,
            "_view_module": "@jupyter-widgets/controls",
            "_model_module_version": "1.5.0",
            "value": 666,
            "_view_count": null,
            "_view_module_version": "1.5.0",
            "orientation": "horizontal",
            "min": 0,
            "description_tooltip": null,
            "_model_module": "@jupyter-widgets/controls",
            "layout": "IPY_MODEL_c420410d9a284c4eac07ab7066e34d98"
          }
        },
        "3ecaa2a7773c40949f303d713a8ca91a": {
          "model_module": "@jupyter-widgets/controls",
          "model_name": "HTMLModel",
          "state": {
            "_view_name": "HTMLView",
            "style": "IPY_MODEL_8d38febb48494c6e9ad053a9d6be2197",
            "_dom_classes": [],
            "description": "",
            "_model_name": "HTMLModel",
            "placeholder": "​",
            "_view_module": "@jupyter-widgets/controls",
            "_model_module_version": "1.5.0",
            "value": " 666/666 [00:08&lt;00:00, 74.8B/s]",
            "_view_count": null,
            "_view_module_version": "1.5.0",
            "description_tooltip": null,
            "_model_module": "@jupyter-widgets/controls",
            "layout": "IPY_MODEL_c901701cd8864248a42cc6107ab2dedf"
          }
        },
        "f9803155bbb04ceb8c6f558624953e89": {
          "model_module": "@jupyter-widgets/controls",
          "model_name": "ProgressStyleModel",
          "state": {
            "_view_name": "StyleView",
            "_model_name": "ProgressStyleModel",
            "description_width": "initial",
            "_view_module": "@jupyter-widgets/base",
            "_model_module_version": "1.5.0",
            "_view_count": null,
            "_view_module_version": "1.2.0",
            "bar_color": null,
            "_model_module": "@jupyter-widgets/controls"
          }
        },
        "c420410d9a284c4eac07ab7066e34d98": {
          "model_module": "@jupyter-widgets/base",
          "model_name": "LayoutModel",
          "state": {
            "_view_name": "LayoutView",
            "grid_template_rows": null,
            "right": null,
            "justify_content": null,
            "_view_module": "@jupyter-widgets/base",
            "overflow": null,
            "_model_module_version": "1.2.0",
            "_view_count": null,
            "flex_flow": null,
            "width": null,
            "min_width": null,
            "border": null,
            "align_items": null,
            "bottom": null,
            "_model_module": "@jupyter-widgets/base",
            "top": null,
            "grid_column": null,
            "overflow_y": null,
            "overflow_x": null,
            "grid_auto_flow": null,
            "grid_area": null,
            "grid_template_columns": null,
            "flex": null,
            "_model_name": "LayoutModel",
            "justify_items": null,
            "grid_row": null,
            "max_height": null,
            "align_content": null,
            "visibility": null,
            "align_self": null,
            "height": null,
            "min_height": null,
            "padding": null,
            "grid_auto_rows": null,
            "grid_gap": null,
            "max_width": null,
            "order": null,
            "_view_module_version": "1.2.0",
            "grid_template_areas": null,
            "object_position": null,
            "object_fit": null,
            "grid_auto_columns": null,
            "margin": null,
            "display": null,
            "left": null
          }
        },
        "8d38febb48494c6e9ad053a9d6be2197": {
          "model_module": "@jupyter-widgets/controls",
          "model_name": "DescriptionStyleModel",
          "state": {
            "_view_name": "StyleView",
            "_model_name": "DescriptionStyleModel",
            "description_width": "",
            "_view_module": "@jupyter-widgets/base",
            "_model_module_version": "1.5.0",
            "_view_count": null,
            "_view_module_version": "1.2.0",
            "_model_module": "@jupyter-widgets/controls"
          }
        },
        "c901701cd8864248a42cc6107ab2dedf": {
          "model_module": "@jupyter-widgets/base",
          "model_name": "LayoutModel",
          "state": {
            "_view_name": "LayoutView",
            "grid_template_rows": null,
            "right": null,
            "justify_content": null,
            "_view_module": "@jupyter-widgets/base",
            "overflow": null,
            "_model_module_version": "1.2.0",
            "_view_count": null,
            "flex_flow": null,
            "width": null,
            "min_width": null,
            "border": null,
            "align_items": null,
            "bottom": null,
            "_model_module": "@jupyter-widgets/base",
            "top": null,
            "grid_column": null,
            "overflow_y": null,
            "overflow_x": null,
            "grid_auto_flow": null,
            "grid_area": null,
            "grid_template_columns": null,
            "flex": null,
            "_model_name": "LayoutModel",
            "justify_items": null,
            "grid_row": null,
            "max_height": null,
            "align_content": null,
            "visibility": null,
            "align_self": null,
            "height": null,
            "min_height": null,
            "padding": null,
            "grid_auto_rows": null,
            "grid_gap": null,
            "max_width": null,
            "order": null,
            "_view_module_version": "1.2.0",
            "grid_template_areas": null,
            "object_position": null,
            "object_fit": null,
            "grid_auto_columns": null,
            "margin": null,
            "display": null,
            "left": null
          }
        },
        "d4366cbcbb744b4998ec9981f9e64b14": {
          "model_module": "@jupyter-widgets/controls",
          "model_name": "HBoxModel",
          "state": {
            "_view_name": "HBoxView",
            "_dom_classes": [],
            "_model_name": "HBoxModel",
            "_view_module": "@jupyter-widgets/controls",
            "_model_module_version": "1.5.0",
            "_view_count": null,
            "_view_module_version": "1.5.0",
            "box_style": "",
            "layout": "IPY_MODEL_05631f4b16b94459bbf8f0a0ae65d794",
            "_model_module": "@jupyter-widgets/controls",
            "children": [
              "IPY_MODEL_9fa7ce574d3e498885689fae065c7edb",
              "IPY_MODEL_4a5c6eabe6374942bc0c35e57089b186"
            ]
          }
        },
        "05631f4b16b94459bbf8f0a0ae65d794": {
          "model_module": "@jupyter-widgets/base",
          "model_name": "LayoutModel",
          "state": {
            "_view_name": "LayoutView",
            "grid_template_rows": null,
            "right": null,
            "justify_content": null,
            "_view_module": "@jupyter-widgets/base",
            "overflow": null,
            "_model_module_version": "1.2.0",
            "_view_count": null,
            "flex_flow": null,
            "width": null,
            "min_width": null,
            "border": null,
            "align_items": null,
            "bottom": null,
            "_model_module": "@jupyter-widgets/base",
            "top": null,
            "grid_column": null,
            "overflow_y": null,
            "overflow_x": null,
            "grid_auto_flow": null,
            "grid_area": null,
            "grid_template_columns": null,
            "flex": null,
            "_model_name": "LayoutModel",
            "justify_items": null,
            "grid_row": null,
            "max_height": null,
            "align_content": null,
            "visibility": null,
            "align_self": null,
            "height": null,
            "min_height": null,
            "padding": null,
            "grid_auto_rows": null,
            "grid_gap": null,
            "max_width": null,
            "order": null,
            "_view_module_version": "1.2.0",
            "grid_template_areas": null,
            "object_position": null,
            "object_fit": null,
            "grid_auto_columns": null,
            "margin": null,
            "display": null,
            "left": null
          }
        },
        "9fa7ce574d3e498885689fae065c7edb": {
          "model_module": "@jupyter-widgets/controls",
          "model_name": "FloatProgressModel",
          "state": {
            "_view_name": "ProgressView",
            "style": "IPY_MODEL_ec22af5a08bb4a1e832146a5aeb50307",
            "_dom_classes": [],
            "description": "Downloading: 100%",
            "_model_name": "FloatProgressModel",
            "bar_style": "success",
            "max": 970833,
            "_view_module": "@jupyter-widgets/controls",
            "_model_module_version": "1.5.0",
            "value": 970833,
            "_view_count": null,
            "_view_module_version": "1.5.0",
            "orientation": "horizontal",
            "min": 0,
            "description_tooltip": null,
            "_model_module": "@jupyter-widgets/controls",
            "layout": "IPY_MODEL_72cb618d78524cf2a7410f1f7515af2a"
          }
        },
        "4a5c6eabe6374942bc0c35e57089b186": {
          "model_module": "@jupyter-widgets/controls",
          "model_name": "HTMLModel",
          "state": {
            "_view_name": "HTMLView",
            "style": "IPY_MODEL_6643d8f82b8545abbf01b6e38c71703f",
            "_dom_classes": [],
            "description": "",
            "_model_name": "HTMLModel",
            "placeholder": "​",
            "_view_module": "@jupyter-widgets/controls",
            "_model_module_version": "1.5.0",
            "value": " 971k/971k [00:06&lt;00:00, 150kB/s]",
            "_view_count": null,
            "_view_module_version": "1.5.0",
            "description_tooltip": null,
            "_model_module": "@jupyter-widgets/controls",
            "layout": "IPY_MODEL_374157dcbe79413295b00f0afc464c34"
          }
        },
        "ec22af5a08bb4a1e832146a5aeb50307": {
          "model_module": "@jupyter-widgets/controls",
          "model_name": "ProgressStyleModel",
          "state": {
            "_view_name": "StyleView",
            "_model_name": "ProgressStyleModel",
            "description_width": "initial",
            "_view_module": "@jupyter-widgets/base",
            "_model_module_version": "1.5.0",
            "_view_count": null,
            "_view_module_version": "1.2.0",
            "bar_color": null,
            "_model_module": "@jupyter-widgets/controls"
          }
        },
        "72cb618d78524cf2a7410f1f7515af2a": {
          "model_module": "@jupyter-widgets/base",
          "model_name": "LayoutModel",
          "state": {
            "_view_name": "LayoutView",
            "grid_template_rows": null,
            "right": null,
            "justify_content": null,
            "_view_module": "@jupyter-widgets/base",
            "overflow": null,
            "_model_module_version": "1.2.0",
            "_view_count": null,
            "flex_flow": null,
            "width": null,
            "min_width": null,
            "border": null,
            "align_items": null,
            "bottom": null,
            "_model_module": "@jupyter-widgets/base",
            "top": null,
            "grid_column": null,
            "overflow_y": null,
            "overflow_x": null,
            "grid_auto_flow": null,
            "grid_area": null,
            "grid_template_columns": null,
            "flex": null,
            "_model_name": "LayoutModel",
            "justify_items": null,
            "grid_row": null,
            "max_height": null,
            "align_content": null,
            "visibility": null,
            "align_self": null,
            "height": null,
            "min_height": null,
            "padding": null,
            "grid_auto_rows": null,
            "grid_gap": null,
            "max_width": null,
            "order": null,
            "_view_module_version": "1.2.0",
            "grid_template_areas": null,
            "object_position": null,
            "object_fit": null,
            "grid_auto_columns": null,
            "margin": null,
            "display": null,
            "left": null
          }
        },
        "6643d8f82b8545abbf01b6e38c71703f": {
          "model_module": "@jupyter-widgets/controls",
          "model_name": "DescriptionStyleModel",
          "state": {
            "_view_name": "StyleView",
            "_model_name": "DescriptionStyleModel",
            "description_width": "",
            "_view_module": "@jupyter-widgets/base",
            "_model_module_version": "1.5.0",
            "_view_count": null,
            "_view_module_version": "1.2.0",
            "_model_module": "@jupyter-widgets/controls"
          }
        },
        "374157dcbe79413295b00f0afc464c34": {
          "model_module": "@jupyter-widgets/base",
          "model_name": "LayoutModel",
          "state": {
            "_view_name": "LayoutView",
            "grid_template_rows": null,
            "right": null,
            "justify_content": null,
            "_view_module": "@jupyter-widgets/base",
            "overflow": null,
            "_model_module_version": "1.2.0",
            "_view_count": null,
            "flex_flow": null,
            "width": null,
            "min_width": null,
            "border": null,
            "align_items": null,
            "bottom": null,
            "_model_module": "@jupyter-widgets/base",
            "top": null,
            "grid_column": null,
            "overflow_y": null,
            "overflow_x": null,
            "grid_auto_flow": null,
            "grid_area": null,
            "grid_template_columns": null,
            "flex": null,
            "_model_name": "LayoutModel",
            "justify_items": null,
            "grid_row": null,
            "max_height": null,
            "align_content": null,
            "visibility": null,
            "align_self": null,
            "height": null,
            "min_height": null,
            "padding": null,
            "grid_auto_rows": null,
            "grid_gap": null,
            "max_width": null,
            "order": null,
            "_view_module_version": "1.2.0",
            "grid_template_areas": null,
            "object_position": null,
            "object_fit": null,
            "grid_auto_columns": null,
            "margin": null,
            "display": null,
            "left": null
          }
        },
        "f8f73771abca40acb3afcf65ae6f5497": {
          "model_module": "@jupyter-widgets/controls",
          "model_name": "HBoxModel",
          "state": {
            "_view_name": "HBoxView",
            "_dom_classes": [],
            "_model_name": "HBoxModel",
            "_view_module": "@jupyter-widgets/controls",
            "_model_module_version": "1.5.0",
            "_view_count": null,
            "_view_module_version": "1.5.0",
            "box_style": "",
            "layout": "IPY_MODEL_b5971e7ffb79422288d2ce8aca6e8de5",
            "_model_module": "@jupyter-widgets/controls",
            "children": [
              "IPY_MODEL_9bf71cf7f9b14d41ad2492edb7f50c82",
              "IPY_MODEL_ff35a0a4aa154441821857c888575628"
            ]
          }
        },
        "b5971e7ffb79422288d2ce8aca6e8de5": {
          "model_module": "@jupyter-widgets/base",
          "model_name": "LayoutModel",
          "state": {
            "_view_name": "LayoutView",
            "grid_template_rows": null,
            "right": null,
            "justify_content": null,
            "_view_module": "@jupyter-widgets/base",
            "overflow": null,
            "_model_module_version": "1.2.0",
            "_view_count": null,
            "flex_flow": null,
            "width": null,
            "min_width": null,
            "border": null,
            "align_items": null,
            "bottom": null,
            "_model_module": "@jupyter-widgets/base",
            "top": null,
            "grid_column": null,
            "overflow_y": null,
            "overflow_x": null,
            "grid_auto_flow": null,
            "grid_area": null,
            "grid_template_columns": null,
            "flex": null,
            "_model_name": "LayoutModel",
            "justify_items": null,
            "grid_row": null,
            "max_height": null,
            "align_content": null,
            "visibility": null,
            "align_self": null,
            "height": null,
            "min_height": null,
            "padding": null,
            "grid_auto_rows": null,
            "grid_gap": null,
            "max_width": null,
            "order": null,
            "_view_module_version": "1.2.0",
            "grid_template_areas": null,
            "object_position": null,
            "object_fit": null,
            "grid_auto_columns": null,
            "margin": null,
            "display": null,
            "left": null
          }
        },
        "9bf71cf7f9b14d41ad2492edb7f50c82": {
          "model_module": "@jupyter-widgets/controls",
          "model_name": "FloatProgressModel",
          "state": {
            "_view_name": "ProgressView",
            "style": "IPY_MODEL_34773bcdd9244a07905a4dbd55f0dd5c",
            "_dom_classes": [],
            "description": "Downloading: 100%",
            "_model_name": "FloatProgressModel",
            "bar_style": "success",
            "max": 512918,
            "_view_module": "@jupyter-widgets/controls",
            "_model_module_version": "1.5.0",
            "value": 512918,
            "_view_count": null,
            "_view_module_version": "1.5.0",
            "orientation": "horizontal",
            "min": 0,
            "description_tooltip": null,
            "_model_module": "@jupyter-widgets/controls",
            "layout": "IPY_MODEL_a8eace2df95b4c03872d1c309f281789"
          }
        },
        "ff35a0a4aa154441821857c888575628": {
          "model_module": "@jupyter-widgets/controls",
          "model_name": "HTMLModel",
          "state": {
            "_view_name": "HTMLView",
            "style": "IPY_MODEL_1faef8f99f04492dad7349e8d21b3a76",
            "_dom_classes": [],
            "description": "",
            "_model_name": "HTMLModel",
            "placeholder": "​",
            "_view_module": "@jupyter-widgets/controls",
            "_model_module_version": "1.5.0",
            "value": " 513k/513k [00:03&lt;00:00, 129kB/s]",
            "_view_count": null,
            "_view_module_version": "1.5.0",
            "description_tooltip": null,
            "_model_module": "@jupyter-widgets/controls",
            "layout": "IPY_MODEL_d820a9d0c08a419c85cc7fe2bd1083d8"
          }
        },
        "34773bcdd9244a07905a4dbd55f0dd5c": {
          "model_module": "@jupyter-widgets/controls",
          "model_name": "ProgressStyleModel",
          "state": {
            "_view_name": "StyleView",
            "_model_name": "ProgressStyleModel",
            "description_width": "initial",
            "_view_module": "@jupyter-widgets/base",
            "_model_module_version": "1.5.0",
            "_view_count": null,
            "_view_module_version": "1.2.0",
            "bar_color": null,
            "_model_module": "@jupyter-widgets/controls"
          }
        },
        "a8eace2df95b4c03872d1c309f281789": {
          "model_module": "@jupyter-widgets/base",
          "model_name": "LayoutModel",
          "state": {
            "_view_name": "LayoutView",
            "grid_template_rows": null,
            "right": null,
            "justify_content": null,
            "_view_module": "@jupyter-widgets/base",
            "overflow": null,
            "_model_module_version": "1.2.0",
            "_view_count": null,
            "flex_flow": null,
            "width": null,
            "min_width": null,
            "border": null,
            "align_items": null,
            "bottom": null,
            "_model_module": "@jupyter-widgets/base",
            "top": null,
            "grid_column": null,
            "overflow_y": null,
            "overflow_x": null,
            "grid_auto_flow": null,
            "grid_area": null,
            "grid_template_columns": null,
            "flex": null,
            "_model_name": "LayoutModel",
            "justify_items": null,
            "grid_row": null,
            "max_height": null,
            "align_content": null,
            "visibility": null,
            "align_self": null,
            "height": null,
            "min_height": null,
            "padding": null,
            "grid_auto_rows": null,
            "grid_gap": null,
            "max_width": null,
            "order": null,
            "_view_module_version": "1.2.0",
            "grid_template_areas": null,
            "object_position": null,
            "object_fit": null,
            "grid_auto_columns": null,
            "margin": null,
            "display": null,
            "left": null
          }
        },
        "1faef8f99f04492dad7349e8d21b3a76": {
          "model_module": "@jupyter-widgets/controls",
          "model_name": "DescriptionStyleModel",
          "state": {
            "_view_name": "StyleView",
            "_model_name": "DescriptionStyleModel",
            "description_width": "",
            "_view_module": "@jupyter-widgets/base",
            "_model_module_version": "1.5.0",
            "_view_count": null,
            "_view_module_version": "1.2.0",
            "_model_module": "@jupyter-widgets/controls"
          }
        },
        "d820a9d0c08a419c85cc7fe2bd1083d8": {
          "model_module": "@jupyter-widgets/base",
          "model_name": "LayoutModel",
          "state": {
            "_view_name": "LayoutView",
            "grid_template_rows": null,
            "right": null,
            "justify_content": null,
            "_view_module": "@jupyter-widgets/base",
            "overflow": null,
            "_model_module_version": "1.2.0",
            "_view_count": null,
            "flex_flow": null,
            "width": null,
            "min_width": null,
            "border": null,
            "align_items": null,
            "bottom": null,
            "_model_module": "@jupyter-widgets/base",
            "top": null,
            "grid_column": null,
            "overflow_y": null,
            "overflow_x": null,
            "grid_auto_flow": null,
            "grid_area": null,
            "grid_template_columns": null,
            "flex": null,
            "_model_name": "LayoutModel",
            "justify_items": null,
            "grid_row": null,
            "max_height": null,
            "align_content": null,
            "visibility": null,
            "align_self": null,
            "height": null,
            "min_height": null,
            "padding": null,
            "grid_auto_rows": null,
            "grid_gap": null,
            "max_width": null,
            "order": null,
            "_view_module_version": "1.2.0",
            "grid_template_areas": null,
            "object_position": null,
            "object_fit": null,
            "grid_auto_columns": null,
            "margin": null,
            "display": null,
            "left": null
          }
        },
        "34e46445322440f9b6447c94202c220c": {
          "model_module": "@jupyter-widgets/controls",
          "model_name": "HBoxModel",
          "state": {
            "_view_name": "HBoxView",
            "_dom_classes": [],
            "_model_name": "HBoxModel",
            "_view_module": "@jupyter-widgets/controls",
            "_model_module_version": "1.5.0",
            "_view_count": null,
            "_view_module_version": "1.5.0",
            "box_style": "",
            "layout": "IPY_MODEL_7a4906ea43c147b48ea48ba706225fb3",
            "_model_module": "@jupyter-widgets/controls",
            "children": [
              "IPY_MODEL_e8d96b72aea5448199955c47314a8cc1",
              "IPY_MODEL_fb7a147d87e440abb3cec325155b6f77"
            ]
          }
        },
        "7a4906ea43c147b48ea48ba706225fb3": {
          "model_module": "@jupyter-widgets/base",
          "model_name": "LayoutModel",
          "state": {
            "_view_name": "LayoutView",
            "grid_template_rows": null,
            "right": null,
            "justify_content": null,
            "_view_module": "@jupyter-widgets/base",
            "overflow": null,
            "_model_module_version": "1.2.0",
            "_view_count": null,
            "flex_flow": null,
            "width": null,
            "min_width": null,
            "border": null,
            "align_items": null,
            "bottom": null,
            "_model_module": "@jupyter-widgets/base",
            "top": null,
            "grid_column": null,
            "overflow_y": null,
            "overflow_x": null,
            "grid_auto_flow": null,
            "grid_area": null,
            "grid_template_columns": null,
            "flex": null,
            "_model_name": "LayoutModel",
            "justify_items": null,
            "grid_row": null,
            "max_height": null,
            "align_content": null,
            "visibility": null,
            "align_self": null,
            "height": null,
            "min_height": null,
            "padding": null,
            "grid_auto_rows": null,
            "grid_gap": null,
            "max_width": null,
            "order": null,
            "_view_module_version": "1.2.0",
            "grid_template_areas": null,
            "object_position": null,
            "object_fit": null,
            "grid_auto_columns": null,
            "margin": null,
            "display": null,
            "left": null
          }
        },
        "e8d96b72aea5448199955c47314a8cc1": {
          "model_module": "@jupyter-widgets/controls",
          "model_name": "FloatProgressModel",
          "state": {
            "_view_name": "ProgressView",
            "style": "IPY_MODEL_a41f3ea6fcf94e4c99e60e13a6db1c07",
            "_dom_classes": [],
            "description": "Downloading: 100%",
            "_model_name": "FloatProgressModel",
            "bar_style": "success",
            "max": 62,
            "_view_module": "@jupyter-widgets/controls",
            "_model_module_version": "1.5.0",
            "value": 62,
            "_view_count": null,
            "_view_module_version": "1.5.0",
            "orientation": "horizontal",
            "min": 0,
            "description_tooltip": null,
            "_model_module": "@jupyter-widgets/controls",
            "layout": "IPY_MODEL_949f3d8a2101492e8b9bd8f4809116cb"
          }
        },
        "fb7a147d87e440abb3cec325155b6f77": {
          "model_module": "@jupyter-widgets/controls",
          "model_name": "HTMLModel",
          "state": {
            "_view_name": "HTMLView",
            "style": "IPY_MODEL_2bf4fa14803949b381249c3ae6d25b41",
            "_dom_classes": [],
            "description": "",
            "_model_name": "HTMLModel",
            "placeholder": "​",
            "_view_module": "@jupyter-widgets/controls",
            "_model_module_version": "1.5.0",
            "value": " 62.0/62.0 [00:00&lt;00:00, 72.4B/s]",
            "_view_count": null,
            "_view_module_version": "1.5.0",
            "description_tooltip": null,
            "_model_module": "@jupyter-widgets/controls",
            "layout": "IPY_MODEL_6113e6117bc544d1b92812df03038648"
          }
        },
        "a41f3ea6fcf94e4c99e60e13a6db1c07": {
          "model_module": "@jupyter-widgets/controls",
          "model_name": "ProgressStyleModel",
          "state": {
            "_view_name": "StyleView",
            "_model_name": "ProgressStyleModel",
            "description_width": "initial",
            "_view_module": "@jupyter-widgets/base",
            "_model_module_version": "1.5.0",
            "_view_count": null,
            "_view_module_version": "1.2.0",
            "bar_color": null,
            "_model_module": "@jupyter-widgets/controls"
          }
        },
        "949f3d8a2101492e8b9bd8f4809116cb": {
          "model_module": "@jupyter-widgets/base",
          "model_name": "LayoutModel",
          "state": {
            "_view_name": "LayoutView",
            "grid_template_rows": null,
            "right": null,
            "justify_content": null,
            "_view_module": "@jupyter-widgets/base",
            "overflow": null,
            "_model_module_version": "1.2.0",
            "_view_count": null,
            "flex_flow": null,
            "width": null,
            "min_width": null,
            "border": null,
            "align_items": null,
            "bottom": null,
            "_model_module": "@jupyter-widgets/base",
            "top": null,
            "grid_column": null,
            "overflow_y": null,
            "overflow_x": null,
            "grid_auto_flow": null,
            "grid_area": null,
            "grid_template_columns": null,
            "flex": null,
            "_model_name": "LayoutModel",
            "justify_items": null,
            "grid_row": null,
            "max_height": null,
            "align_content": null,
            "visibility": null,
            "align_self": null,
            "height": null,
            "min_height": null,
            "padding": null,
            "grid_auto_rows": null,
            "grid_gap": null,
            "max_width": null,
            "order": null,
            "_view_module_version": "1.2.0",
            "grid_template_areas": null,
            "object_position": null,
            "object_fit": null,
            "grid_auto_columns": null,
            "margin": null,
            "display": null,
            "left": null
          }
        },
        "2bf4fa14803949b381249c3ae6d25b41": {
          "model_module": "@jupyter-widgets/controls",
          "model_name": "DescriptionStyleModel",
          "state": {
            "_view_name": "StyleView",
            "_model_name": "DescriptionStyleModel",
            "description_width": "",
            "_view_module": "@jupyter-widgets/base",
            "_model_module_version": "1.5.0",
            "_view_count": null,
            "_view_module_version": "1.2.0",
            "_model_module": "@jupyter-widgets/controls"
          }
        },
        "6113e6117bc544d1b92812df03038648": {
          "model_module": "@jupyter-widgets/base",
          "model_name": "LayoutModel",
          "state": {
            "_view_name": "LayoutView",
            "grid_template_rows": null,
            "right": null,
            "justify_content": null,
            "_view_module": "@jupyter-widgets/base",
            "overflow": null,
            "_model_module_version": "1.2.0",
            "_view_count": null,
            "flex_flow": null,
            "width": null,
            "min_width": null,
            "border": null,
            "align_items": null,
            "bottom": null,
            "_model_module": "@jupyter-widgets/base",
            "top": null,
            "grid_column": null,
            "overflow_y": null,
            "overflow_x": null,
            "grid_auto_flow": null,
            "grid_area": null,
            "grid_template_columns": null,
            "flex": null,
            "_model_name": "LayoutModel",
            "justify_items": null,
            "grid_row": null,
            "max_height": null,
            "align_content": null,
            "visibility": null,
            "align_self": null,
            "height": null,
            "min_height": null,
            "padding": null,
            "grid_auto_rows": null,
            "grid_gap": null,
            "max_width": null,
            "order": null,
            "_view_module_version": "1.2.0",
            "grid_template_areas": null,
            "object_position": null,
            "object_fit": null,
            "grid_auto_columns": null,
            "margin": null,
            "display": null,
            "left": null
          }
        },
        "397127ff6468441ea881cfc75adfde99": {
          "model_module": "@jupyter-widgets/controls",
          "model_name": "HBoxModel",
          "state": {
            "_view_name": "HBoxView",
            "_dom_classes": [],
            "_model_name": "HBoxModel",
            "_view_module": "@jupyter-widgets/controls",
            "_model_module_version": "1.5.0",
            "_view_count": null,
            "_view_module_version": "1.5.0",
            "box_style": "",
            "layout": "IPY_MODEL_8e24d90c0d8741be80c6abe81949c468",
            "_model_module": "@jupyter-widgets/controls",
            "children": [
              "IPY_MODEL_fd36b4ba129a45a29246044084a3a9e2",
              "IPY_MODEL_d3d3d606d828476e87773dff004fe9db"
            ]
          }
        },
        "8e24d90c0d8741be80c6abe81949c468": {
          "model_module": "@jupyter-widgets/base",
          "model_name": "LayoutModel",
          "state": {
            "_view_name": "LayoutView",
            "grid_template_rows": null,
            "right": null,
            "justify_content": null,
            "_view_module": "@jupyter-widgets/base",
            "overflow": null,
            "_model_module_version": "1.2.0",
            "_view_count": null,
            "flex_flow": null,
            "width": null,
            "min_width": null,
            "border": null,
            "align_items": null,
            "bottom": null,
            "_model_module": "@jupyter-widgets/base",
            "top": null,
            "grid_column": null,
            "overflow_y": null,
            "overflow_x": null,
            "grid_auto_flow": null,
            "grid_area": null,
            "grid_template_columns": null,
            "flex": null,
            "_model_name": "LayoutModel",
            "justify_items": null,
            "grid_row": null,
            "max_height": null,
            "align_content": null,
            "visibility": null,
            "align_self": null,
            "height": null,
            "min_height": null,
            "padding": null,
            "grid_auto_rows": null,
            "grid_gap": null,
            "max_width": null,
            "order": null,
            "_view_module_version": "1.2.0",
            "grid_template_areas": null,
            "object_position": null,
            "object_fit": null,
            "grid_auto_columns": null,
            "margin": null,
            "display": null,
            "left": null
          }
        },
        "fd36b4ba129a45a29246044084a3a9e2": {
          "model_module": "@jupyter-widgets/controls",
          "model_name": "FloatProgressModel",
          "state": {
            "_view_name": "ProgressView",
            "style": "IPY_MODEL_39e02633736940fe8a9c332171a8d172",
            "_dom_classes": [],
            "description": "Downloading: 100%",
            "_model_name": "FloatProgressModel",
            "bar_style": "success",
            "max": 675497284,
            "_view_module": "@jupyter-widgets/controls",
            "_model_module_version": "1.5.0",
            "value": 675497284,
            "_view_count": null,
            "_view_module_version": "1.5.0",
            "orientation": "horizontal",
            "min": 0,
            "description_tooltip": null,
            "_model_module": "@jupyter-widgets/controls",
            "layout": "IPY_MODEL_0dbd7b1039424d939635150e844d0c62"
          }
        },
        "d3d3d606d828476e87773dff004fe9db": {
          "model_module": "@jupyter-widgets/controls",
          "model_name": "HTMLModel",
          "state": {
            "_view_name": "HTMLView",
            "style": "IPY_MODEL_7f22198b017c4f918cd31f6e288b62b3",
            "_dom_classes": [],
            "description": "",
            "_model_name": "HTMLModel",
            "placeholder": "​",
            "_view_module": "@jupyter-widgets/controls",
            "_model_module_version": "1.5.0",
            "value": " 675M/675M [00:10&lt;00:00, 65.7MB/s]",
            "_view_count": null,
            "_view_module_version": "1.5.0",
            "description_tooltip": null,
            "_model_module": "@jupyter-widgets/controls",
            "layout": "IPY_MODEL_8cd3a17cf52a482ab3a5e510a279f2cf"
          }
        },
        "39e02633736940fe8a9c332171a8d172": {
          "model_module": "@jupyter-widgets/controls",
          "model_name": "ProgressStyleModel",
          "state": {
            "_view_name": "StyleView",
            "_model_name": "ProgressStyleModel",
            "description_width": "initial",
            "_view_module": "@jupyter-widgets/base",
            "_model_module_version": "1.5.0",
            "_view_count": null,
            "_view_module_version": "1.2.0",
            "bar_color": null,
            "_model_module": "@jupyter-widgets/controls"
          }
        },
        "0dbd7b1039424d939635150e844d0c62": {
          "model_module": "@jupyter-widgets/base",
          "model_name": "LayoutModel",
          "state": {
            "_view_name": "LayoutView",
            "grid_template_rows": null,
            "right": null,
            "justify_content": null,
            "_view_module": "@jupyter-widgets/base",
            "overflow": null,
            "_model_module_version": "1.2.0",
            "_view_count": null,
            "flex_flow": null,
            "width": null,
            "min_width": null,
            "border": null,
            "align_items": null,
            "bottom": null,
            "_model_module": "@jupyter-widgets/base",
            "top": null,
            "grid_column": null,
            "overflow_y": null,
            "overflow_x": null,
            "grid_auto_flow": null,
            "grid_area": null,
            "grid_template_columns": null,
            "flex": null,
            "_model_name": "LayoutModel",
            "justify_items": null,
            "grid_row": null,
            "max_height": null,
            "align_content": null,
            "visibility": null,
            "align_self": null,
            "height": null,
            "min_height": null,
            "padding": null,
            "grid_auto_rows": null,
            "grid_gap": null,
            "max_width": null,
            "order": null,
            "_view_module_version": "1.2.0",
            "grid_template_areas": null,
            "object_position": null,
            "object_fit": null,
            "grid_auto_columns": null,
            "margin": null,
            "display": null,
            "left": null
          }
        },
        "7f22198b017c4f918cd31f6e288b62b3": {
          "model_module": "@jupyter-widgets/controls",
          "model_name": "DescriptionStyleModel",
          "state": {
            "_view_name": "StyleView",
            "_model_name": "DescriptionStyleModel",
            "description_width": "",
            "_view_module": "@jupyter-widgets/base",
            "_model_module_version": "1.5.0",
            "_view_count": null,
            "_view_module_version": "1.2.0",
            "_model_module": "@jupyter-widgets/controls"
          }
        },
        "8cd3a17cf52a482ab3a5e510a279f2cf": {
          "model_module": "@jupyter-widgets/base",
          "model_name": "LayoutModel",
          "state": {
            "_view_name": "LayoutView",
            "grid_template_rows": null,
            "right": null,
            "justify_content": null,
            "_view_module": "@jupyter-widgets/base",
            "overflow": null,
            "_model_module_version": "1.2.0",
            "_view_count": null,
            "flex_flow": null,
            "width": null,
            "min_width": null,
            "border": null,
            "align_items": null,
            "bottom": null,
            "_model_module": "@jupyter-widgets/base",
            "top": null,
            "grid_column": null,
            "overflow_y": null,
            "overflow_x": null,
            "grid_auto_flow": null,
            "grid_area": null,
            "grid_template_columns": null,
            "flex": null,
            "_model_name": "LayoutModel",
            "justify_items": null,
            "grid_row": null,
            "max_height": null,
            "align_content": null,
            "visibility": null,
            "align_self": null,
            "height": null,
            "min_height": null,
            "padding": null,
            "grid_auto_rows": null,
            "grid_gap": null,
            "max_width": null,
            "order": null,
            "_view_module_version": "1.2.0",
            "grid_template_areas": null,
            "object_position": null,
            "object_fit": null,
            "grid_auto_columns": null,
            "margin": null,
            "display": null,
            "left": null
          }
        },
        "076d3f1e92cb4756a9abfdb72634abe2": {
          "model_module": "@jupyter-widgets/controls",
          "model_name": "HBoxModel",
          "state": {
            "_view_name": "HBoxView",
            "_dom_classes": [],
            "_model_name": "HBoxModel",
            "_view_module": "@jupyter-widgets/controls",
            "_model_module_version": "1.5.0",
            "_view_count": null,
            "_view_module_version": "1.5.0",
            "box_style": "",
            "layout": "IPY_MODEL_a9a31313189e481099fdacfb29a31814",
            "_model_module": "@jupyter-widgets/controls",
            "children": [
              "IPY_MODEL_4685f534f9494697bb48b47dba894498",
              "IPY_MODEL_42a47311d4974a0cac8c8838569e2d15"
            ]
          }
        },
        "a9a31313189e481099fdacfb29a31814": {
          "model_module": "@jupyter-widgets/base",
          "model_name": "LayoutModel",
          "state": {
            "_view_name": "LayoutView",
            "grid_template_rows": null,
            "right": null,
            "justify_content": null,
            "_view_module": "@jupyter-widgets/base",
            "overflow": null,
            "_model_module_version": "1.2.0",
            "_view_count": null,
            "flex_flow": null,
            "width": null,
            "min_width": null,
            "border": null,
            "align_items": null,
            "bottom": null,
            "_model_module": "@jupyter-widgets/base",
            "top": null,
            "grid_column": null,
            "overflow_y": null,
            "overflow_x": null,
            "grid_auto_flow": null,
            "grid_area": null,
            "grid_template_columns": null,
            "flex": null,
            "_model_name": "LayoutModel",
            "justify_items": null,
            "grid_row": null,
            "max_height": null,
            "align_content": null,
            "visibility": null,
            "align_self": null,
            "height": null,
            "min_height": null,
            "padding": null,
            "grid_auto_rows": null,
            "grid_gap": null,
            "max_width": null,
            "order": null,
            "_view_module_version": "1.2.0",
            "grid_template_areas": null,
            "object_position": null,
            "object_fit": null,
            "grid_auto_columns": null,
            "margin": null,
            "display": null,
            "left": null
          }
        },
        "4685f534f9494697bb48b47dba894498": {
          "model_module": "@jupyter-widgets/controls",
          "model_name": "FloatProgressModel",
          "state": {
            "_view_name": "ProgressView",
            "style": "IPY_MODEL_c3baa2a7e0a44aff8878111bf11035fa",
            "_dom_classes": [],
            "description": "Epoch: 100%",
            "_model_name": "FloatProgressModel",
            "bar_style": "success",
            "max": 3,
            "_view_module": "@jupyter-widgets/controls",
            "_model_module_version": "1.5.0",
            "value": 3,
            "_view_count": null,
            "_view_module_version": "1.5.0",
            "orientation": "horizontal",
            "min": 0,
            "description_tooltip": null,
            "_model_module": "@jupyter-widgets/controls",
            "layout": "IPY_MODEL_4ca8700b7366402196225e18481cbdc5"
          }
        },
        "42a47311d4974a0cac8c8838569e2d15": {
          "model_module": "@jupyter-widgets/controls",
          "model_name": "HTMLModel",
          "state": {
            "_view_name": "HTMLView",
            "style": "IPY_MODEL_e162971e55d44574bcb8cafa6d04a9f0",
            "_dom_classes": [],
            "description": "",
            "_model_name": "HTMLModel",
            "placeholder": "​",
            "_view_module": "@jupyter-widgets/controls",
            "_model_module_version": "1.5.0",
            "value": " 3/3 [08:49&lt;00:00, 176.34s/it]",
            "_view_count": null,
            "_view_module_version": "1.5.0",
            "description_tooltip": null,
            "_model_module": "@jupyter-widgets/controls",
            "layout": "IPY_MODEL_bce75d4588db40559ab981884fed7181"
          }
        },
        "c3baa2a7e0a44aff8878111bf11035fa": {
          "model_module": "@jupyter-widgets/controls",
          "model_name": "ProgressStyleModel",
          "state": {
            "_view_name": "StyleView",
            "_model_name": "ProgressStyleModel",
            "description_width": "initial",
            "_view_module": "@jupyter-widgets/base",
            "_model_module_version": "1.5.0",
            "_view_count": null,
            "_view_module_version": "1.2.0",
            "bar_color": null,
            "_model_module": "@jupyter-widgets/controls"
          }
        },
        "4ca8700b7366402196225e18481cbdc5": {
          "model_module": "@jupyter-widgets/base",
          "model_name": "LayoutModel",
          "state": {
            "_view_name": "LayoutView",
            "grid_template_rows": null,
            "right": null,
            "justify_content": null,
            "_view_module": "@jupyter-widgets/base",
            "overflow": null,
            "_model_module_version": "1.2.0",
            "_view_count": null,
            "flex_flow": null,
            "width": null,
            "min_width": null,
            "border": null,
            "align_items": null,
            "bottom": null,
            "_model_module": "@jupyter-widgets/base",
            "top": null,
            "grid_column": null,
            "overflow_y": null,
            "overflow_x": null,
            "grid_auto_flow": null,
            "grid_area": null,
            "grid_template_columns": null,
            "flex": null,
            "_model_name": "LayoutModel",
            "justify_items": null,
            "grid_row": null,
            "max_height": null,
            "align_content": null,
            "visibility": null,
            "align_self": null,
            "height": null,
            "min_height": null,
            "padding": null,
            "grid_auto_rows": null,
            "grid_gap": null,
            "max_width": null,
            "order": null,
            "_view_module_version": "1.2.0",
            "grid_template_areas": null,
            "object_position": null,
            "object_fit": null,
            "grid_auto_columns": null,
            "margin": null,
            "display": null,
            "left": null
          }
        },
        "e162971e55d44574bcb8cafa6d04a9f0": {
          "model_module": "@jupyter-widgets/controls",
          "model_name": "DescriptionStyleModel",
          "state": {
            "_view_name": "StyleView",
            "_model_name": "DescriptionStyleModel",
            "description_width": "",
            "_view_module": "@jupyter-widgets/base",
            "_model_module_version": "1.5.0",
            "_view_count": null,
            "_view_module_version": "1.2.0",
            "_model_module": "@jupyter-widgets/controls"
          }
        },
        "bce75d4588db40559ab981884fed7181": {
          "model_module": "@jupyter-widgets/base",
          "model_name": "LayoutModel",
          "state": {
            "_view_name": "LayoutView",
            "grid_template_rows": null,
            "right": null,
            "justify_content": null,
            "_view_module": "@jupyter-widgets/base",
            "overflow": null,
            "_model_module_version": "1.2.0",
            "_view_count": null,
            "flex_flow": null,
            "width": null,
            "min_width": null,
            "border": null,
            "align_items": null,
            "bottom": null,
            "_model_module": "@jupyter-widgets/base",
            "top": null,
            "grid_column": null,
            "overflow_y": null,
            "overflow_x": null,
            "grid_auto_flow": null,
            "grid_area": null,
            "grid_template_columns": null,
            "flex": null,
            "_model_name": "LayoutModel",
            "justify_items": null,
            "grid_row": null,
            "max_height": null,
            "align_content": null,
            "visibility": null,
            "align_self": null,
            "height": null,
            "min_height": null,
            "padding": null,
            "grid_auto_rows": null,
            "grid_gap": null,
            "max_width": null,
            "order": null,
            "_view_module_version": "1.2.0",
            "grid_template_areas": null,
            "object_position": null,
            "object_fit": null,
            "grid_auto_columns": null,
            "margin": null,
            "display": null,
            "left": null
          }
        },
        "b2ed8ddaf8854e67a1ffdfeb761aeb3d": {
          "model_module": "@jupyter-widgets/controls",
          "model_name": "HBoxModel",
          "state": {
            "_view_name": "HBoxView",
            "_dom_classes": [],
            "_model_name": "HBoxModel",
            "_view_module": "@jupyter-widgets/controls",
            "_model_module_version": "1.5.0",
            "_view_count": null,
            "_view_module_version": "1.5.0",
            "box_style": "",
            "layout": "IPY_MODEL_d74e3e0e4e3e4e8a8971b1318e828792",
            "_model_module": "@jupyter-widgets/controls",
            "children": [
              "IPY_MODEL_08f98d686e8748c3b9f2034beed8aaa4",
              "IPY_MODEL_9ceefeced45c41a4835db893885642e9"
            ]
          }
        },
        "d74e3e0e4e3e4e8a8971b1318e828792": {
          "model_module": "@jupyter-widgets/base",
          "model_name": "LayoutModel",
          "state": {
            "_view_name": "LayoutView",
            "grid_template_rows": null,
            "right": null,
            "justify_content": null,
            "_view_module": "@jupyter-widgets/base",
            "overflow": null,
            "_model_module_version": "1.2.0",
            "_view_count": null,
            "flex_flow": null,
            "width": null,
            "min_width": null,
            "border": null,
            "align_items": null,
            "bottom": null,
            "_model_module": "@jupyter-widgets/base",
            "top": null,
            "grid_column": null,
            "overflow_y": null,
            "overflow_x": null,
            "grid_auto_flow": null,
            "grid_area": null,
            "grid_template_columns": null,
            "flex": null,
            "_model_name": "LayoutModel",
            "justify_items": null,
            "grid_row": null,
            "max_height": null,
            "align_content": null,
            "visibility": null,
            "align_self": null,
            "height": null,
            "min_height": null,
            "padding": null,
            "grid_auto_rows": null,
            "grid_gap": null,
            "max_width": null,
            "order": null,
            "_view_module_version": "1.2.0",
            "grid_template_areas": null,
            "object_position": null,
            "object_fit": null,
            "grid_auto_columns": null,
            "margin": null,
            "display": null,
            "left": null
          }
        },
        "08f98d686e8748c3b9f2034beed8aaa4": {
          "model_module": "@jupyter-widgets/controls",
          "model_name": "FloatProgressModel",
          "state": {
            "_view_name": "ProgressView",
            "style": "IPY_MODEL_f5ffdc8f3f9140eabf87dc0075704881",
            "_dom_classes": [],
            "description": "Iteration: 100%",
            "_model_name": "FloatProgressModel",
            "bar_style": "success",
            "max": 495,
            "_view_module": "@jupyter-widgets/controls",
            "_model_module_version": "1.5.0",
            "value": 495,
            "_view_count": null,
            "_view_module_version": "1.5.0",
            "orientation": "horizontal",
            "min": 0,
            "description_tooltip": null,
            "_model_module": "@jupyter-widgets/controls",
            "layout": "IPY_MODEL_01a53a0500fa4892abc85f92b0b1e3b0"
          }
        },
        "9ceefeced45c41a4835db893885642e9": {
          "model_module": "@jupyter-widgets/controls",
          "model_name": "HTMLModel",
          "state": {
            "_view_name": "HTMLView",
            "style": "IPY_MODEL_b1faf3fc20df485e88bb38927e218227",
            "_dom_classes": [],
            "description": "",
            "_model_name": "HTMLModel",
            "placeholder": "​",
            "_view_module": "@jupyter-widgets/controls",
            "_model_module_version": "1.5.0",
            "value": " 495/495 [03:43&lt;00:00,  2.21it/s]",
            "_view_count": null,
            "_view_module_version": "1.5.0",
            "description_tooltip": null,
            "_model_module": "@jupyter-widgets/controls",
            "layout": "IPY_MODEL_7ca3079967c24a6b9e0e12eedb0d5039"
          }
        },
        "f5ffdc8f3f9140eabf87dc0075704881": {
          "model_module": "@jupyter-widgets/controls",
          "model_name": "ProgressStyleModel",
          "state": {
            "_view_name": "StyleView",
            "_model_name": "ProgressStyleModel",
            "description_width": "initial",
            "_view_module": "@jupyter-widgets/base",
            "_model_module_version": "1.5.0",
            "_view_count": null,
            "_view_module_version": "1.2.0",
            "bar_color": null,
            "_model_module": "@jupyter-widgets/controls"
          }
        },
        "01a53a0500fa4892abc85f92b0b1e3b0": {
          "model_module": "@jupyter-widgets/base",
          "model_name": "LayoutModel",
          "state": {
            "_view_name": "LayoutView",
            "grid_template_rows": null,
            "right": null,
            "justify_content": null,
            "_view_module": "@jupyter-widgets/base",
            "overflow": null,
            "_model_module_version": "1.2.0",
            "_view_count": null,
            "flex_flow": null,
            "width": null,
            "min_width": null,
            "border": null,
            "align_items": null,
            "bottom": null,
            "_model_module": "@jupyter-widgets/base",
            "top": null,
            "grid_column": null,
            "overflow_y": null,
            "overflow_x": null,
            "grid_auto_flow": null,
            "grid_area": null,
            "grid_template_columns": null,
            "flex": null,
            "_model_name": "LayoutModel",
            "justify_items": null,
            "grid_row": null,
            "max_height": null,
            "align_content": null,
            "visibility": null,
            "align_self": null,
            "height": null,
            "min_height": null,
            "padding": null,
            "grid_auto_rows": null,
            "grid_gap": null,
            "max_width": null,
            "order": null,
            "_view_module_version": "1.2.0",
            "grid_template_areas": null,
            "object_position": null,
            "object_fit": null,
            "grid_auto_columns": null,
            "margin": null,
            "display": null,
            "left": null
          }
        },
        "b1faf3fc20df485e88bb38927e218227": {
          "model_module": "@jupyter-widgets/controls",
          "model_name": "DescriptionStyleModel",
          "state": {
            "_view_name": "StyleView",
            "_model_name": "DescriptionStyleModel",
            "description_width": "",
            "_view_module": "@jupyter-widgets/base",
            "_model_module_version": "1.5.0",
            "_view_count": null,
            "_view_module_version": "1.2.0",
            "_model_module": "@jupyter-widgets/controls"
          }
        },
        "7ca3079967c24a6b9e0e12eedb0d5039": {
          "model_module": "@jupyter-widgets/base",
          "model_name": "LayoutModel",
          "state": {
            "_view_name": "LayoutView",
            "grid_template_rows": null,
            "right": null,
            "justify_content": null,
            "_view_module": "@jupyter-widgets/base",
            "overflow": null,
            "_model_module_version": "1.2.0",
            "_view_count": null,
            "flex_flow": null,
            "width": null,
            "min_width": null,
            "border": null,
            "align_items": null,
            "bottom": null,
            "_model_module": "@jupyter-widgets/base",
            "top": null,
            "grid_column": null,
            "overflow_y": null,
            "overflow_x": null,
            "grid_auto_flow": null,
            "grid_area": null,
            "grid_template_columns": null,
            "flex": null,
            "_model_name": "LayoutModel",
            "justify_items": null,
            "grid_row": null,
            "max_height": null,
            "align_content": null,
            "visibility": null,
            "align_self": null,
            "height": null,
            "min_height": null,
            "padding": null,
            "grid_auto_rows": null,
            "grid_gap": null,
            "max_width": null,
            "order": null,
            "_view_module_version": "1.2.0",
            "grid_template_areas": null,
            "object_position": null,
            "object_fit": null,
            "grid_auto_columns": null,
            "margin": null,
            "display": null,
            "left": null
          }
        },
        "1fed50d4629846689d7a2f1882c04af2": {
          "model_module": "@jupyter-widgets/controls",
          "model_name": "HBoxModel",
          "state": {
            "_view_name": "HBoxView",
            "_dom_classes": [],
            "_model_name": "HBoxModel",
            "_view_module": "@jupyter-widgets/controls",
            "_model_module_version": "1.5.0",
            "_view_count": null,
            "_view_module_version": "1.5.0",
            "box_style": "",
            "layout": "IPY_MODEL_d0ac18477d34479dab8ee97436a50a76",
            "_model_module": "@jupyter-widgets/controls",
            "children": [
              "IPY_MODEL_8c3a6104ac2246cead360e1693ea3f80",
              "IPY_MODEL_da2e2ab214a34b5ebeca3872c9d135da"
            ]
          }
        },
        "d0ac18477d34479dab8ee97436a50a76": {
          "model_module": "@jupyter-widgets/base",
          "model_name": "LayoutModel",
          "state": {
            "_view_name": "LayoutView",
            "grid_template_rows": null,
            "right": null,
            "justify_content": null,
            "_view_module": "@jupyter-widgets/base",
            "overflow": null,
            "_model_module_version": "1.2.0",
            "_view_count": null,
            "flex_flow": null,
            "width": null,
            "min_width": null,
            "border": null,
            "align_items": null,
            "bottom": null,
            "_model_module": "@jupyter-widgets/base",
            "top": null,
            "grid_column": null,
            "overflow_y": null,
            "overflow_x": null,
            "grid_auto_flow": null,
            "grid_area": null,
            "grid_template_columns": null,
            "flex": null,
            "_model_name": "LayoutModel",
            "justify_items": null,
            "grid_row": null,
            "max_height": null,
            "align_content": null,
            "visibility": null,
            "align_self": null,
            "height": null,
            "min_height": null,
            "padding": null,
            "grid_auto_rows": null,
            "grid_gap": null,
            "max_width": null,
            "order": null,
            "_view_module_version": "1.2.0",
            "grid_template_areas": null,
            "object_position": null,
            "object_fit": null,
            "grid_auto_columns": null,
            "margin": null,
            "display": null,
            "left": null
          }
        },
        "8c3a6104ac2246cead360e1693ea3f80": {
          "model_module": "@jupyter-widgets/controls",
          "model_name": "FloatProgressModel",
          "state": {
            "_view_name": "ProgressView",
            "style": "IPY_MODEL_28d98f290f5a4bba82752baed0514d10",
            "_dom_classes": [],
            "description": "Iteration: 100%",
            "_model_name": "FloatProgressModel",
            "bar_style": "success",
            "max": 495,
            "_view_module": "@jupyter-widgets/controls",
            "_model_module_version": "1.5.0",
            "value": 495,
            "_view_count": null,
            "_view_module_version": "1.5.0",
            "orientation": "horizontal",
            "min": 0,
            "description_tooltip": null,
            "_model_module": "@jupyter-widgets/controls",
            "layout": "IPY_MODEL_c02eef75c5284117b589c2e905b79d85"
          }
        },
        "da2e2ab214a34b5ebeca3872c9d135da": {
          "model_module": "@jupyter-widgets/controls",
          "model_name": "HTMLModel",
          "state": {
            "_view_name": "HTMLView",
            "style": "IPY_MODEL_ad06ea9e77634b9f803eb047ee447905",
            "_dom_classes": [],
            "description": "",
            "_model_name": "HTMLModel",
            "placeholder": "​",
            "_view_module": "@jupyter-widgets/controls",
            "_model_module_version": "1.5.0",
            "value": " 495/495 [03:00&lt;00:00,  2.75it/s]",
            "_view_count": null,
            "_view_module_version": "1.5.0",
            "description_tooltip": null,
            "_model_module": "@jupyter-widgets/controls",
            "layout": "IPY_MODEL_3f90b59bc9714d0db51f451d179590ae"
          }
        },
        "28d98f290f5a4bba82752baed0514d10": {
          "model_module": "@jupyter-widgets/controls",
          "model_name": "ProgressStyleModel",
          "state": {
            "_view_name": "StyleView",
            "_model_name": "ProgressStyleModel",
            "description_width": "initial",
            "_view_module": "@jupyter-widgets/base",
            "_model_module_version": "1.5.0",
            "_view_count": null,
            "_view_module_version": "1.2.0",
            "bar_color": null,
            "_model_module": "@jupyter-widgets/controls"
          }
        },
        "c02eef75c5284117b589c2e905b79d85": {
          "model_module": "@jupyter-widgets/base",
          "model_name": "LayoutModel",
          "state": {
            "_view_name": "LayoutView",
            "grid_template_rows": null,
            "right": null,
            "justify_content": null,
            "_view_module": "@jupyter-widgets/base",
            "overflow": null,
            "_model_module_version": "1.2.0",
            "_view_count": null,
            "flex_flow": null,
            "width": null,
            "min_width": null,
            "border": null,
            "align_items": null,
            "bottom": null,
            "_model_module": "@jupyter-widgets/base",
            "top": null,
            "grid_column": null,
            "overflow_y": null,
            "overflow_x": null,
            "grid_auto_flow": null,
            "grid_area": null,
            "grid_template_columns": null,
            "flex": null,
            "_model_name": "LayoutModel",
            "justify_items": null,
            "grid_row": null,
            "max_height": null,
            "align_content": null,
            "visibility": null,
            "align_self": null,
            "height": null,
            "min_height": null,
            "padding": null,
            "grid_auto_rows": null,
            "grid_gap": null,
            "max_width": null,
            "order": null,
            "_view_module_version": "1.2.0",
            "grid_template_areas": null,
            "object_position": null,
            "object_fit": null,
            "grid_auto_columns": null,
            "margin": null,
            "display": null,
            "left": null
          }
        },
        "ad06ea9e77634b9f803eb047ee447905": {
          "model_module": "@jupyter-widgets/controls",
          "model_name": "DescriptionStyleModel",
          "state": {
            "_view_name": "StyleView",
            "_model_name": "DescriptionStyleModel",
            "description_width": "",
            "_view_module": "@jupyter-widgets/base",
            "_model_module_version": "1.5.0",
            "_view_count": null,
            "_view_module_version": "1.2.0",
            "_model_module": "@jupyter-widgets/controls"
          }
        },
        "3f90b59bc9714d0db51f451d179590ae": {
          "model_module": "@jupyter-widgets/base",
          "model_name": "LayoutModel",
          "state": {
            "_view_name": "LayoutView",
            "grid_template_rows": null,
            "right": null,
            "justify_content": null,
            "_view_module": "@jupyter-widgets/base",
            "overflow": null,
            "_model_module_version": "1.2.0",
            "_view_count": null,
            "flex_flow": null,
            "width": null,
            "min_width": null,
            "border": null,
            "align_items": null,
            "bottom": null,
            "_model_module": "@jupyter-widgets/base",
            "top": null,
            "grid_column": null,
            "overflow_y": null,
            "overflow_x": null,
            "grid_auto_flow": null,
            "grid_area": null,
            "grid_template_columns": null,
            "flex": null,
            "_model_name": "LayoutModel",
            "justify_items": null,
            "grid_row": null,
            "max_height": null,
            "align_content": null,
            "visibility": null,
            "align_self": null,
            "height": null,
            "min_height": null,
            "padding": null,
            "grid_auto_rows": null,
            "grid_gap": null,
            "max_width": null,
            "order": null,
            "_view_module_version": "1.2.0",
            "grid_template_areas": null,
            "object_position": null,
            "object_fit": null,
            "grid_auto_columns": null,
            "margin": null,
            "display": null,
            "left": null
          }
        },
        "dcc8ed126f1348c6a54421491159aea3": {
          "model_module": "@jupyter-widgets/controls",
          "model_name": "HBoxModel",
          "state": {
            "_view_name": "HBoxView",
            "_dom_classes": [],
            "_model_name": "HBoxModel",
            "_view_module": "@jupyter-widgets/controls",
            "_model_module_version": "1.5.0",
            "_view_count": null,
            "_view_module_version": "1.5.0",
            "box_style": "",
            "layout": "IPY_MODEL_d5dd586942924306abb77af51053b404",
            "_model_module": "@jupyter-widgets/controls",
            "children": [
              "IPY_MODEL_d0f54757c6bc434895e4670803ddb6c2",
              "IPY_MODEL_2934540799384c48b9baef17d41ff860"
            ]
          }
        },
        "d5dd586942924306abb77af51053b404": {
          "model_module": "@jupyter-widgets/base",
          "model_name": "LayoutModel",
          "state": {
            "_view_name": "LayoutView",
            "grid_template_rows": null,
            "right": null,
            "justify_content": null,
            "_view_module": "@jupyter-widgets/base",
            "overflow": null,
            "_model_module_version": "1.2.0",
            "_view_count": null,
            "flex_flow": null,
            "width": null,
            "min_width": null,
            "border": null,
            "align_items": null,
            "bottom": null,
            "_model_module": "@jupyter-widgets/base",
            "top": null,
            "grid_column": null,
            "overflow_y": null,
            "overflow_x": null,
            "grid_auto_flow": null,
            "grid_area": null,
            "grid_template_columns": null,
            "flex": null,
            "_model_name": "LayoutModel",
            "justify_items": null,
            "grid_row": null,
            "max_height": null,
            "align_content": null,
            "visibility": null,
            "align_self": null,
            "height": null,
            "min_height": null,
            "padding": null,
            "grid_auto_rows": null,
            "grid_gap": null,
            "max_width": null,
            "order": null,
            "_view_module_version": "1.2.0",
            "grid_template_areas": null,
            "object_position": null,
            "object_fit": null,
            "grid_auto_columns": null,
            "margin": null,
            "display": null,
            "left": null
          }
        },
        "d0f54757c6bc434895e4670803ddb6c2": {
          "model_module": "@jupyter-widgets/controls",
          "model_name": "FloatProgressModel",
          "state": {
            "_view_name": "ProgressView",
            "style": "IPY_MODEL_59803d0a03b24741a621b0b295196b57",
            "_dom_classes": [],
            "description": "Iteration: 100%",
            "_model_name": "FloatProgressModel",
            "bar_style": "success",
            "max": 495,
            "_view_module": "@jupyter-widgets/controls",
            "_model_module_version": "1.5.0",
            "value": 495,
            "_view_count": null,
            "_view_module_version": "1.5.0",
            "orientation": "horizontal",
            "min": 0,
            "description_tooltip": null,
            "_model_module": "@jupyter-widgets/controls",
            "layout": "IPY_MODEL_e0150ff888a04fb2b53b2a5d063ee9f7"
          }
        },
        "2934540799384c48b9baef17d41ff860": {
          "model_module": "@jupyter-widgets/controls",
          "model_name": "HTMLModel",
          "state": {
            "_view_name": "HTMLView",
            "style": "IPY_MODEL_52bafc29eda5472fbdf62ae604ab1c2f",
            "_dom_classes": [],
            "description": "",
            "_model_name": "HTMLModel",
            "placeholder": "​",
            "_view_module": "@jupyter-widgets/controls",
            "_model_module_version": "1.5.0",
            "value": " 495/495 [02:54&lt;00:00,  2.84it/s]",
            "_view_count": null,
            "_view_module_version": "1.5.0",
            "description_tooltip": null,
            "_model_module": "@jupyter-widgets/controls",
            "layout": "IPY_MODEL_b74e1c2488464b6abe46401d0521c734"
          }
        },
        "59803d0a03b24741a621b0b295196b57": {
          "model_module": "@jupyter-widgets/controls",
          "model_name": "ProgressStyleModel",
          "state": {
            "_view_name": "StyleView",
            "_model_name": "ProgressStyleModel",
            "description_width": "initial",
            "_view_module": "@jupyter-widgets/base",
            "_model_module_version": "1.5.0",
            "_view_count": null,
            "_view_module_version": "1.2.0",
            "bar_color": null,
            "_model_module": "@jupyter-widgets/controls"
          }
        },
        "e0150ff888a04fb2b53b2a5d063ee9f7": {
          "model_module": "@jupyter-widgets/base",
          "model_name": "LayoutModel",
          "state": {
            "_view_name": "LayoutView",
            "grid_template_rows": null,
            "right": null,
            "justify_content": null,
            "_view_module": "@jupyter-widgets/base",
            "overflow": null,
            "_model_module_version": "1.2.0",
            "_view_count": null,
            "flex_flow": null,
            "width": null,
            "min_width": null,
            "border": null,
            "align_items": null,
            "bottom": null,
            "_model_module": "@jupyter-widgets/base",
            "top": null,
            "grid_column": null,
            "overflow_y": null,
            "overflow_x": null,
            "grid_auto_flow": null,
            "grid_area": null,
            "grid_template_columns": null,
            "flex": null,
            "_model_name": "LayoutModel",
            "justify_items": null,
            "grid_row": null,
            "max_height": null,
            "align_content": null,
            "visibility": null,
            "align_self": null,
            "height": null,
            "min_height": null,
            "padding": null,
            "grid_auto_rows": null,
            "grid_gap": null,
            "max_width": null,
            "order": null,
            "_view_module_version": "1.2.0",
            "grid_template_areas": null,
            "object_position": null,
            "object_fit": null,
            "grid_auto_columns": null,
            "margin": null,
            "display": null,
            "left": null
          }
        },
        "52bafc29eda5472fbdf62ae604ab1c2f": {
          "model_module": "@jupyter-widgets/controls",
          "model_name": "DescriptionStyleModel",
          "state": {
            "_view_name": "StyleView",
            "_model_name": "DescriptionStyleModel",
            "description_width": "",
            "_view_module": "@jupyter-widgets/base",
            "_model_module_version": "1.5.0",
            "_view_count": null,
            "_view_module_version": "1.2.0",
            "_model_module": "@jupyter-widgets/controls"
          }
        },
        "b74e1c2488464b6abe46401d0521c734": {
          "model_module": "@jupyter-widgets/base",
          "model_name": "LayoutModel",
          "state": {
            "_view_name": "LayoutView",
            "grid_template_rows": null,
            "right": null,
            "justify_content": null,
            "_view_module": "@jupyter-widgets/base",
            "overflow": null,
            "_model_module_version": "1.2.0",
            "_view_count": null,
            "flex_flow": null,
            "width": null,
            "min_width": null,
            "border": null,
            "align_items": null,
            "bottom": null,
            "_model_module": "@jupyter-widgets/base",
            "top": null,
            "grid_column": null,
            "overflow_y": null,
            "overflow_x": null,
            "grid_auto_flow": null,
            "grid_area": null,
            "grid_template_columns": null,
            "flex": null,
            "_model_name": "LayoutModel",
            "justify_items": null,
            "grid_row": null,
            "max_height": null,
            "align_content": null,
            "visibility": null,
            "align_self": null,
            "height": null,
            "min_height": null,
            "padding": null,
            "grid_auto_rows": null,
            "grid_gap": null,
            "max_width": null,
            "order": null,
            "_view_module_version": "1.2.0",
            "grid_template_areas": null,
            "object_position": null,
            "object_fit": null,
            "grid_auto_columns": null,
            "margin": null,
            "display": null,
            "left": null
          }
        }
      }
    }
  },
  "cells": [
    {
      "cell_type": "markdown",
      "metadata": {
        "id": "view-in-github",
        "colab_type": "text"
      },
      "source": [
        "<a href=\"https://colab.research.google.com/github/philschmid/fine-tune-GPT-2/blob/master/Fine_tune_a_non_English_GPT_2_Model_with_Huggingface.ipynb\" target=\"_parent\"><img src=\"https://colab.research.google.com/assets/colab-badge.svg\" alt=\"Open In Colab\"/></a>"
      ]
    },
    {
      "cell_type": "markdown",
      "metadata": {
        "id": "959PjU1QMUbB",
        "colab_type": "text"
      },
      "source": [
        "# Tutorial\n",
        "\n",
        "In the tutorial, we are going to fine-tune a German GPT-2 from the [Huggingface model hub](https://huggingface.co/models). As fine-tune, data we are using the [German Recipes Dataset](https://www.kaggle.com/sterby/german-recipes-dataset), which consists of 12190 german recipes with metadata crawled from [chefkoch.de](http://chefkoch.de/).\n",
        "\n",
        "The idea is we use the recipe description to fine-tune our GPT-2 to let us write recipes we can cook.\n",
        "\n",
        "![EgmAK04WoAAoA-W.png](data:image/png;base64,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)\n",
        "\n",
        "I am using Google Colab with a GPU runtime for this tutorial. If you are not sure how to use a GPU Runtime take a look here."
      ]
    },
    {
      "cell_type": "markdown",
      "metadata": {
        "id": "DRHEjKRJbNjY",
        "colab_type": "text"
      },
      "source": [
        "## **What are we going to do:**\n",
        "\n",
        "- load the dataset from kaggle\n",
        "- prepare the dataset and build a ``TextDataset``\n",
        "- load the pre-trained GPT-2 model and tokenizer\n",
        "- initialize ``Trainer`` with ``TrainingArguments``\n",
        "- train and save the model\n",
        "- test the model"
      ]
    },
    {
      "cell_type": "code",
      "metadata": {
        "id": "S7_e3GBMPX_M",
        "colab_type": "code",
        "colab": {
          "base_uri": "https://localhost:8080/",
          "height": 621
        },
        "outputId": "cb77d59a-2eea-4334-808f-7712a0e24575"
      },
      "source": [
        "!pip install transformers==3.1.0"
      ],
      "execution_count": null,
      "outputs": [
        {
          "output_type": "stream",
          "text": [
            "Collecting transformers\n",
            "\u001b[?25l  Downloading https://files.pythonhosted.org/packages/ae/05/c8c55b600308dc04e95100dc8ad8a244dd800fe75dfafcf1d6348c6f6209/transformers-3.1.0-py3-none-any.whl (884kB)\n",
            "\r\u001b[K     |▍                               | 10kB 18.2MB/s eta 0:00:01\r\u001b[K     |▊                               | 20kB 1.7MB/s eta 0:00:01\r\u001b[K     |█▏                              | 30kB 2.3MB/s eta 0:00:01\r\u001b[K     |█▌                              | 40kB 2.5MB/s eta 0:00:01\r\u001b[K     |█▉                              | 51kB 2.0MB/s eta 0:00:01\r\u001b[K     |██▎                             | 61kB 2.3MB/s eta 0:00:01\r\u001b[K     |██▋                             | 71kB 2.5MB/s eta 0:00:01\r\u001b[K     |███                             | 81kB 2.7MB/s eta 0:00:01\r\u001b[K     |███▍                            | 92kB 2.9MB/s eta 0:00:01\r\u001b[K     |███▊                            | 102kB 2.8MB/s eta 0:00:01\r\u001b[K     |████                            | 112kB 2.8MB/s eta 0:00:01\r\u001b[K     |████▌                           | 122kB 2.8MB/s eta 0:00:01\r\u001b[K     |████▉                           | 133kB 2.8MB/s eta 0:00:01\r\u001b[K     |█████▏                          | 143kB 2.8MB/s eta 0:00:01\r\u001b[K     |█████▋                          | 153kB 2.8MB/s eta 0:00:01\r\u001b[K     |██████                          | 163kB 2.8MB/s eta 0:00:01\r\u001b[K     |██████▎                         | 174kB 2.8MB/s eta 0:00:01\r\u001b[K     |██████▊                         | 184kB 2.8MB/s eta 0:00:01\r\u001b[K     |███████                         | 194kB 2.8MB/s eta 0:00:01\r\u001b[K     |███████▍                        | 204kB 2.8MB/s eta 0:00:01\r\u001b[K     |███████▉                        | 215kB 2.8MB/s eta 0:00:01\r\u001b[K     |████████▏                       | 225kB 2.8MB/s eta 0:00:01\r\u001b[K     |████████▌                       | 235kB 2.8MB/s eta 0:00:01\r\u001b[K     |█████████                       | 245kB 2.8MB/s eta 0:00:01\r\u001b[K     |█████████▎                      | 256kB 2.8MB/s eta 0:00:01\r\u001b[K     |█████████▋                      | 266kB 2.8MB/s eta 0:00:01\r\u001b[K     |██████████                      | 276kB 2.8MB/s eta 0:00:01\r\u001b[K     |██████████▍                     | 286kB 2.8MB/s eta 0:00:01\r\u001b[K     |██████████▊                     | 296kB 2.8MB/s eta 0:00:01\r\u001b[K     |███████████▏                    | 307kB 2.8MB/s eta 0:00:01\r\u001b[K     |███████████▌                    | 317kB 2.8MB/s eta 0:00:01\r\u001b[K     |███████████▉                    | 327kB 2.8MB/s eta 0:00:01\r\u001b[K     |████████████▎                   | 337kB 2.8MB/s eta 0:00:01\r\u001b[K     |████████████▋                   | 348kB 2.8MB/s eta 0:00:01\r\u001b[K     |█████████████                   | 358kB 2.8MB/s eta 0:00:01\r\u001b[K     |█████████████▍                  | 368kB 2.8MB/s eta 0:00:01\r\u001b[K     |█████████████▊                  | 378kB 2.8MB/s eta 0:00:01\r\u001b[K     |██████████████                  | 389kB 2.8MB/s eta 0:00:01\r\u001b[K     |██████████████▌                 | 399kB 2.8MB/s eta 0:00:01\r\u001b[K     |██████████████▉                 | 409kB 2.8MB/s eta 0:00:01\r\u001b[K     |███████████████▏                | 419kB 2.8MB/s eta 0:00:01\r\u001b[K     |███████████████▋                | 430kB 2.8MB/s eta 0:00:01\r\u001b[K     |████████████████                | 440kB 2.8MB/s eta 0:00:01\r\u001b[K     |████████████████▎               | 450kB 2.8MB/s eta 0:00:01\r\u001b[K     |████████████████▊               | 460kB 2.8MB/s eta 0:00:01\r\u001b[K     |█████████████████               | 471kB 2.8MB/s eta 0:00:01\r\u001b[K     |█████████████████▍              | 481kB 2.8MB/s eta 0:00:01\r\u001b[K     |█████████████████▉              | 491kB 2.8MB/s eta 0:00:01\r\u001b[K     |██████████████████▏             | 501kB 2.8MB/s eta 0:00:01\r\u001b[K     |██████████████████▌             | 512kB 2.8MB/s eta 0:00:01\r\u001b[K     |███████████████████             | 522kB 2.8MB/s eta 0:00:01\r\u001b[K     |███████████████████▎            | 532kB 2.8MB/s eta 0:00:01\r\u001b[K     |███████████████████▋            | 542kB 2.8MB/s eta 0:00:01\r\u001b[K     |████████████████████            | 552kB 2.8MB/s eta 0:00:01\r\u001b[K     |████████████████████▍           | 563kB 2.8MB/s eta 0:00:01\r\u001b[K     |████████████████████▊           | 573kB 2.8MB/s eta 0:00:01\r\u001b[K     |█████████████████████▏          | 583kB 2.8MB/s eta 0:00:01\r\u001b[K     |█████████████████████▌          | 593kB 2.8MB/s eta 0:00:01\r\u001b[K     |█████████████████████▉          | 604kB 2.8MB/s eta 0:00:01\r\u001b[K     |██████████████████████▎         | 614kB 2.8MB/s eta 0:00:01\r\u001b[K     |██████████████████████▋         | 624kB 2.8MB/s eta 0:00:01\r\u001b[K     |███████████████████████         | 634kB 2.8MB/s eta 0:00:01\r\u001b[K     |███████████████████████▍        | 645kB 2.8MB/s eta 0:00:01\r\u001b[K     |███████████████████████▊        | 655kB 2.8MB/s eta 0:00:01\r\u001b[K     |████████████████████████        | 665kB 2.8MB/s eta 0:00:01\r\u001b[K     |████████████████████████▌       | 675kB 2.8MB/s eta 0:00:01\r\u001b[K     |████████████████████████▉       | 686kB 2.8MB/s eta 0:00:01\r\u001b[K     |█████████████████████████▏      | 696kB 2.8MB/s eta 0:00:01\r\u001b[K     |█████████████████████████▋      | 706kB 2.8MB/s eta 0:00:01\r\u001b[K     |██████████████████████████      | 716kB 2.8MB/s eta 0:00:01\r\u001b[K     |██████████████████████████▎     | 727kB 2.8MB/s eta 0:00:01\r\u001b[K     |██████████████████████████▊     | 737kB 2.8MB/s eta 0:00:01\r\u001b[K     |███████████████████████████     | 747kB 2.8MB/s eta 0:00:01\r\u001b[K     |███████████████████████████▍    | 757kB 2.8MB/s eta 0:00:01\r\u001b[K     |███████████████████████████▉    | 768kB 2.8MB/s eta 0:00:01\r\u001b[K     |████████████████████████████▏   | 778kB 2.8MB/s eta 0:00:01\r\u001b[K     |████████████████████████████▌   | 788kB 2.8MB/s eta 0:00:01\r\u001b[K     |█████████████████████████████   | 798kB 2.8MB/s eta 0:00:01\r\u001b[K     |█████████████████████████████▎  | 808kB 2.8MB/s eta 0:00:01\r\u001b[K     |█████████████████████████████▋  | 819kB 2.8MB/s eta 0:00:01\r\u001b[K     |██████████████████████████████  | 829kB 2.8MB/s eta 0:00:01\r\u001b[K     |██████████████████████████████▍ | 839kB 2.8MB/s eta 0:00:01\r\u001b[K     |██████████████████████████████▊ | 849kB 2.8MB/s eta 0:00:01\r\u001b[K     |███████████████████████████████▏| 860kB 2.8MB/s eta 0:00:01\r\u001b[K     |███████████████████████████████▌| 870kB 2.8MB/s eta 0:00:01\r\u001b[K     |███████████████████████████████▉| 880kB 2.8MB/s eta 0:00:01\r\u001b[K     |████████████████████████████████| 890kB 2.8MB/s \n",
            "\u001b[?25hRequirement already satisfied: numpy in /usr/local/lib/python3.6/dist-packages (from transformers) (1.18.5)\n",
            "Requirement already satisfied: requests in /usr/local/lib/python3.6/dist-packages (from transformers) (2.23.0)\n",
            "Collecting tokenizers==0.8.1.rc2\n",
            "\u001b[?25l  Downloading https://files.pythonhosted.org/packages/80/83/8b9fccb9e48eeb575ee19179e2bdde0ee9a1904f97de5f02d19016b8804f/tokenizers-0.8.1rc2-cp36-cp36m-manylinux1_x86_64.whl (3.0MB)\n",
            "\u001b[K     |████████████████████████████████| 3.0MB 10.9MB/s \n",
            "\u001b[?25hCollecting sacremoses\n",
            "\u001b[?25l  Downloading https://files.pythonhosted.org/packages/7d/34/09d19aff26edcc8eb2a01bed8e98f13a1537005d31e95233fd48216eed10/sacremoses-0.0.43.tar.gz (883kB)\n",
            "\u001b[K     |████████████████████████████████| 890kB 27.6MB/s \n",
            "\u001b[?25hRequirement already satisfied: packaging in /usr/local/lib/python3.6/dist-packages (from transformers) (20.4)\n",
            "Requirement already satisfied: filelock in /usr/local/lib/python3.6/dist-packages (from transformers) (3.0.12)\n",
            "Requirement already satisfied: regex!=2019.12.17 in /usr/local/lib/python3.6/dist-packages (from transformers) (2019.12.20)\n",
            "Requirement already satisfied: dataclasses; python_version < \"3.7\" in /usr/local/lib/python3.6/dist-packages (from transformers) (0.7)\n",
            "Collecting sentencepiece!=0.1.92\n",
            "\u001b[?25l  Downloading https://files.pythonhosted.org/packages/d4/a4/d0a884c4300004a78cca907a6ff9a5e9fe4f090f5d95ab341c53d28cbc58/sentencepiece-0.1.91-cp36-cp36m-manylinux1_x86_64.whl (1.1MB)\n",
            "\u001b[K     |████████████████████████████████| 1.1MB 43.6MB/s \n",
            "\u001b[?25hRequirement already satisfied: tqdm>=4.27 in /usr/local/lib/python3.6/dist-packages (from transformers) (4.41.1)\n",
            "Requirement already satisfied: urllib3!=1.25.0,!=1.25.1,<1.26,>=1.21.1 in /usr/local/lib/python3.6/dist-packages (from requests->transformers) (1.24.3)\n",
            "Requirement already satisfied: idna<3,>=2.5 in /usr/local/lib/python3.6/dist-packages (from requests->transformers) (2.10)\n",
            "Requirement already satisfied: certifi>=2017.4.17 in /usr/local/lib/python3.6/dist-packages (from requests->transformers) (2020.6.20)\n",
            "Requirement already satisfied: chardet<4,>=3.0.2 in /usr/local/lib/python3.6/dist-packages (from requests->transformers) (3.0.4)\n",
            "Requirement already satisfied: six in /usr/local/lib/python3.6/dist-packages (from sacremoses->transformers) (1.15.0)\n",
            "Requirement already satisfied: click in /usr/local/lib/python3.6/dist-packages (from sacremoses->transformers) (7.1.2)\n",
            "Requirement already satisfied: joblib in /usr/local/lib/python3.6/dist-packages (from sacremoses->transformers) (0.16.0)\n",
            "Requirement already satisfied: pyparsing>=2.0.2 in /usr/local/lib/python3.6/dist-packages (from packaging->transformers) (2.4.7)\n",
            "Building wheels for collected packages: sacremoses\n",
            "  Building wheel for sacremoses (setup.py) ... \u001b[?25l\u001b[?25hdone\n",
            "  Created wheel for sacremoses: filename=sacremoses-0.0.43-cp36-none-any.whl size=893257 sha256=ab422272068497762923868883c7881f36aa70c32886a3c5f1821097674279fe\n",
            "  Stored in directory: /root/.cache/pip/wheels/29/3c/fd/7ce5c3f0666dab31a50123635e6fb5e19ceb42ce38d4e58f45\n",
            "Successfully built sacremoses\n",
            "Installing collected packages: tokenizers, sacremoses, sentencepiece, transformers\n",
            "Successfully installed sacremoses-0.0.43 sentencepiece-0.1.91 tokenizers-0.8.1rc2 transformers-3.1.0\n"
          ],
          "name": "stdout"
        }
      ]
    },
    {
      "cell_type": "code",
      "metadata": {
        "id": "JH0JtdCeE1n2",
        "colab_type": "code",
        "colab": {
          "base_uri": "https://localhost:8080/",
          "height": 372
        },
        "outputId": "14e19447-5130-4945-a07f-26f98585a07c"
      },
      "source": [
        "!nvidia-smi"
      ],
      "execution_count": null,
      "outputs": [
        {
          "output_type": "stream",
          "text": [
            "Mon Sep  7 07:40:08 2020       \n",
            "+-----------------------------------------------------------------------------+\n",
            "| NVIDIA-SMI 450.66       Driver Version: 418.67       CUDA Version: 10.1     |\n",
            "|-------------------------------+----------------------+----------------------+\n",
            "| GPU  Name        Persistence-M| Bus-Id        Disp.A | Volatile Uncorr. ECC |\n",
            "| Fan  Temp  Perf  Pwr:Usage/Cap|         Memory-Usage | GPU-Util  Compute M. |\n",
            "|                               |                      |               MIG M. |\n",
            "|===============================+======================+======================|\n",
            "|   0  Tesla V100-SXM2...  Off  | 00000000:00:04.0 Off |                    0 |\n",
            "| N/A   35C    P0    24W / 300W |      0MiB / 16130MiB |      0%      Default |\n",
            "|                               |                      |                 ERR! |\n",
            "+-------------------------------+----------------------+----------------------+\n",
            "                                                                               \n",
            "+-----------------------------------------------------------------------------+\n",
            "| Processes:                                                                  |\n",
            "|  GPU   GI   CI        PID   Type   Process name                  GPU Memory |\n",
            "|        ID   ID                                                   Usage      |\n",
            "|=============================================================================|\n",
            "|  No running processes found                                                 |\n",
            "+-----------------------------------------------------------------------------+\n"
          ],
          "name": "stdout"
        }
      ]
    },
    {
      "cell_type": "markdown",
      "metadata": {
        "id": "OyUDoMGSe6si",
        "colab_type": "text"
      },
      "source": [
        "# Load the dataset from Kaggle\n",
        "\n",
        "As already mentioned in the introduction of the tutorial we use the \"[German Recipes Dataset](https://www.kaggle.com/sterby/german-recipes-dataset)\" dataset from Kaggle. The dataset consists of 12190 german recipes with metadata crawled from [chefkoch.de](http://chefkoch.de/). In this example, we only use the Instructions of the recipes. You can either download the dataset by using the \"Download\" Button and uploading it to our colab notebook.\n",
        "\n"
      ]
    },
    {
      "cell_type": "markdown",
      "metadata": {
        "id": "baesbClve-MC",
        "colab_type": "text"
      },
      "source": [
        "![Bildschirmfoto 2020-09-05 um 20.02.46-min.png](data:image/png;base64,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)"
      ]
    },
    {
      "cell_type": "code",
      "metadata": {
        "id": "8lkWeohye94_",
        "colab_type": "code",
        "colab": {
          "resources": {
            "http://localhost:8080/nbextensions/google.colab/files.js": {
              "data": "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",
              "ok": true,
              "headers": [
                [
                  "content-type",
                  "application/javascript"
                ]
              ],
              "status": 200,
              "status_text": ""
            }
          },
          "base_uri": "https://localhost:8080/",
          "height": 73
        },
        "outputId": "2e007271-485a-4171-840b-bca2dd597000"
      },
      "source": [
        "#upload files to your colab environment\n",
        "from google.colab import files\n",
        "uploaded = files.upload()"
      ],
      "execution_count": null,
      "outputs": [
        {
          "output_type": "display_data",
          "data": {
            "text/html": [
              "\n",
              "     <input type=\"file\" id=\"files-b3676452-cc97-40e4-9b4b-d5ae07d9cbea\" name=\"files[]\" multiple disabled\n",
              "        style=\"border:none\" />\n",
              "     <output id=\"result-b3676452-cc97-40e4-9b4b-d5ae07d9cbea\">\n",
              "      Upload widget is only available when the cell has been executed in the\n",
              "      current browser session. Please rerun this cell to enable.\n",
              "      </output>\n",
              "      <script src=\"/nbextensions/google.colab/files.js\"></script> "
            ],
            "text/plain": [
              "<IPython.core.display.HTML object>"
            ]
          },
          "metadata": {
            "tags": []
          }
        },
        {
          "output_type": "stream",
          "text": [
            "Saving recipes.json to recipes.json\n"
          ],
          "name": "stdout"
        }
      ]
    },
    {
      "cell_type": "markdown",
      "metadata": {
        "id": "Rqr30ptZgDbX",
        "colab_type": "text"
      },
      "source": [
        "After we uploaded the file with use `unzip` to extract the recipes.json. "
      ]
    },
    {
      "cell_type": "code",
      "metadata": {
        "id": "acdgnDUAgB1U",
        "colab_type": "code",
        "colab": {
          "base_uri": "https://localhost:8080/",
          "height": 34
        },
        "outputId": "ef605258-edfb-40dd-9fd3-db75c0c96236"
      },
      "source": [
        "!unzip '132879_316218_bundle_archive.zip'"
      ],
      "execution_count": null,
      "outputs": [
        {
          "output_type": "stream",
          "text": [
            "unzip:  cannot find or open 132879_316218_bundle_archive.zip, 132879_316218_bundle_archive.zip.zip or 132879_316218_bundle_archive.zip.ZIP.\n"
          ],
          "name": "stdout"
        }
      ]
    },
    {
      "cell_type": "markdown",
      "metadata": {
        "id": "bH1W6YrdjNSp",
        "colab_type": "text"
      },
      "source": [
        "# Prepare the dataset and build a ``TextDataset``\n",
        "\n",
        "The next step is to extract the instructions from all recipes and build a `TextDataset`. The `TextDataset` is a custom implementation of the [Pytroch `Dataset` class](https://pytorch.org/tutorials/beginner/data_loading_tutorial.html#dataset-class) implemented by the transformers library. If you want to know more about Dataset in Pytroch you can check out this [youtube video](https://www.youtube.com/watch?v=PXOzkkB5eH0&ab_channel=PythonEngineer).\n",
        "\n",
        "First, we are going to split the `recipes.json` into a `train` and `test` section and extract `Instructions` from the recipes and write them into a `train_dataset.txt` and `test_dataset.txt`"
      ]
    },
    {
      "cell_type": "code",
      "metadata": {
        "id": "V36gOIOfLHvB",
        "colab_type": "code",
        "colab": {
          "base_uri": "https://localhost:8080/",
          "height": 52
        },
        "outputId": "798fd662-260a-4562-8bce-cb5f37f0b669"
      },
      "source": [
        "import re\n",
        "import json\n",
        "from sklearn.model_selection import train_test_split\n",
        "\n",
        "\n",
        "with open('recipes.json') as f:\n",
        "    data = json.load(f)\n",
        "\n",
        "def build_text_files(data_json, dest_path):\n",
        "    f = open(dest_path, 'w')\n",
        "    data = ''\n",
        "    for texts in data_json:\n",
        "        summary = str(texts['Instructions']).strip()\n",
        "        summary = re.sub(r\"\\s\", \" \", summary)\n",
        "        data += summary + \"  \"\n",
        "    f.write(data)\n",
        "\n",
        "train, test = train_test_split(data,test_size=0.15) \n",
        "\n",
        "\n",
        "build_text_files(train,'train_dataset.txt')\n",
        "build_text_files(test,'test_dataset.txt')\n",
        "\n",
        "print(\"Train dataset length: \"+str(len(train)))\n",
        "print(\"Test dataset length: \"+ str(len(test)))\n"
      ],
      "execution_count": null,
      "outputs": [
        {
          "output_type": "stream",
          "text": [
            "Train dataset length: 10361\n",
            "Test dataset length: 1829\n"
          ],
          "name": "stdout"
        }
      ]
    },
    {
      "cell_type": "markdown",
      "metadata": {
        "id": "Jg78wNnTl305",
        "colab_type": "text"
      },
      "source": [
        "the next step is to download the tokenizer, which we use. We use the tokenizer from the `german-gpt2` model on [huggingface](https://huggingface.co/anonymous-german-nlp/german-gpt2)."
      ]
    },
    {
      "cell_type": "code",
      "metadata": {
        "id": "VCaunLMtlPfw",
        "colab_type": "code",
        "colab": {
          "base_uri": "https://localhost:8080/",
          "height": 215,
          "referenced_widgets": [
            "5cef0f1aeff04438953bf62e2f2f65b6",
            "0bee0fef329544629a0ada783f6acfbd",
            "a4cab5f0b8464135bf1595e1ad681614",
            "3ecaa2a7773c40949f303d713a8ca91a",
            "f9803155bbb04ceb8c6f558624953e89",
            "c420410d9a284c4eac07ab7066e34d98",
            "8d38febb48494c6e9ad053a9d6be2197",
            "c901701cd8864248a42cc6107ab2dedf",
            "d4366cbcbb744b4998ec9981f9e64b14",
            "05631f4b16b94459bbf8f0a0ae65d794",
            "9fa7ce574d3e498885689fae065c7edb",
            "4a5c6eabe6374942bc0c35e57089b186",
            "ec22af5a08bb4a1e832146a5aeb50307",
            "72cb618d78524cf2a7410f1f7515af2a",
            "6643d8f82b8545abbf01b6e38c71703f",
            "374157dcbe79413295b00f0afc464c34",
            "f8f73771abca40acb3afcf65ae6f5497",
            "b5971e7ffb79422288d2ce8aca6e8de5",
            "9bf71cf7f9b14d41ad2492edb7f50c82",
            "ff35a0a4aa154441821857c888575628",
            "34773bcdd9244a07905a4dbd55f0dd5c",
            "a8eace2df95b4c03872d1c309f281789",
            "1faef8f99f04492dad7349e8d21b3a76",
            "d820a9d0c08a419c85cc7fe2bd1083d8",
            "34e46445322440f9b6447c94202c220c",
            "7a4906ea43c147b48ea48ba706225fb3",
            "e8d96b72aea5448199955c47314a8cc1",
            "fb7a147d87e440abb3cec325155b6f77",
            "a41f3ea6fcf94e4c99e60e13a6db1c07",
            "949f3d8a2101492e8b9bd8f4809116cb",
            "2bf4fa14803949b381249c3ae6d25b41",
            "6113e6117bc544d1b92812df03038648"
          ]
        },
        "outputId": "5b4744df-c079-463d-c5b6-d001f3f37ed6"
      },
      "source": [
        "from transformers import AutoTokenizer\n",
        "\n",
        "tokenizer = AutoTokenizer.from_pretrained(\"anonymous-german-nlp/german-gpt2\")\n",
        "\n",
        "train_path = 'train_dataset.txt'\n",
        "test_path = 'test_dataset.txt'"
      ],
      "execution_count": null,
      "outputs": [
        {
          "output_type": "display_data",
          "data": {
            "application/vnd.jupyter.widget-view+json": {
              "model_id": "5cef0f1aeff04438953bf62e2f2f65b6",
              "version_minor": 0,
              "version_major": 2
            },
            "text/plain": [
              "HBox(children=(FloatProgress(value=0.0, description='Downloading', max=666.0, style=ProgressStyle(description_…"
            ]
          },
          "metadata": {
            "tags": []
          }
        },
        {
          "output_type": "stream",
          "text": [
            "\n"
          ],
          "name": "stdout"
        },
        {
          "output_type": "display_data",
          "data": {
            "application/vnd.jupyter.widget-view+json": {
              "model_id": "d4366cbcbb744b4998ec9981f9e64b14",
              "version_minor": 0,
              "version_major": 2
            },
            "text/plain": [
              "HBox(children=(FloatProgress(value=0.0, description='Downloading', max=970833.0, style=ProgressStyle(descripti…"
            ]
          },
          "metadata": {
            "tags": []
          }
        },
        {
          "output_type": "stream",
          "text": [
            "\n"
          ],
          "name": "stdout"
        },
        {
          "output_type": "display_data",
          "data": {
            "application/vnd.jupyter.widget-view+json": {
              "model_id": "f8f73771abca40acb3afcf65ae6f5497",
              "version_minor": 0,
              "version_major": 2
            },
            "text/plain": [
              "HBox(children=(FloatProgress(value=0.0, description='Downloading', max=512918.0, style=ProgressStyle(descripti…"
            ]
          },
          "metadata": {
            "tags": []
          }
        },
        {
          "output_type": "stream",
          "text": [
            "\n"
          ],
          "name": "stdout"
        },
        {
          "output_type": "display_data",
          "data": {
            "application/vnd.jupyter.widget-view+json": {
              "model_id": "34e46445322440f9b6447c94202c220c",
              "version_minor": 0,
              "version_major": 2
            },
            "text/plain": [
              "HBox(children=(FloatProgress(value=0.0, description='Downloading', max=62.0, style=ProgressStyle(description_w…"
            ]
          },
          "metadata": {
            "tags": []
          }
        },
        {
          "output_type": "stream",
          "text": [
            "\n"
          ],
          "name": "stdout"
        }
      ]
    },
    {
      "cell_type": "code",
      "metadata": {
        "id": "m9lHS0mIMak4",
        "colab_type": "code",
        "colab": {}
      },
      "source": [
        "from transformers import TextDataset,DataCollatorForLanguageModeling\n",
        "\n",
        "def load_dataset(train_path,test_path,tokenizer):\n",
        "    train_dataset = TextDataset(\n",
        "          tokenizer=tokenizer,\n",
        "          file_path=train_path,\n",
        "          block_size=128)\n",
        "     \n",
        "    test_dataset = TextDataset(\n",
        "          tokenizer=tokenizer,\n",
        "          file_path=test_path,\n",
        "          block_size=128)   \n",
        "    \n",
        "    data_collator = DataCollatorForLanguageModeling(\n",
        "        tokenizer=tokenizer, mlm=False,\n",
        "    )\n",
        "    return train_dataset,test_dataset,data_collator\n",
        "\n",
        "train_dataset,test_dataset,data_collator = load_dataset(train_path,test_path,tokenizer)"
      ],
      "execution_count": null,
      "outputs": []
    },
    {
      "cell_type": "markdown",
      "metadata": {
        "id": "ThG6jwL7qET8",
        "colab_type": "text"
      },
      "source": [
        "# Initialize `Trainer` with `TrainingArguments` and GPT-2 model\n",
        "\n",
        "The [Trainer](https://huggingface.co/transformers/main_classes/trainer.html#transformers.Trainer) class provides an API for feature-complete training. It is used in most of the [example scripts](https://huggingface.co/transformers/examples.html) from Huggingface. Before we can instantiate our `Trainer` we need to download our GPT-2 model and create a [TrainingArguments](https://huggingface.co/transformers/main_classes/trainer.html#transformers.TrainingArguments) to access all the points of customization during training. In the `TrainingArguments`, we can define the Hyperparameters we are going to use in the training process like our `learning_rate`, `num_train_epochs`, or  `per_device_train_batch_size`. A complete list can you find [here](https://huggingface.co/transformers/main_classes/trainer.html#trainingarguments)."
      ]
    },
    {
      "cell_type": "code",
      "metadata": {
        "id": "H7hhmbT2ModI",
        "colab_type": "code",
        "colab": {
          "base_uri": "https://localhost:8080/",
          "height": 157,
          "referenced_widgets": [
            "397127ff6468441ea881cfc75adfde99",
            "8e24d90c0d8741be80c6abe81949c468",
            "fd36b4ba129a45a29246044084a3a9e2",
            "d3d3d606d828476e87773dff004fe9db",
            "39e02633736940fe8a9c332171a8d172",
            "0dbd7b1039424d939635150e844d0c62",
            "7f22198b017c4f918cd31f6e288b62b3",
            "8cd3a17cf52a482ab3a5e510a279f2cf"
          ]
        },
        "outputId": "4b9ffae3-7db1-4663-f073-5ea78fb09120"
      },
      "source": [
        "from transformers import Trainer, TrainingArguments,AutoModelWithLMHead\n",
        "\n",
        "model = AutoModelWithLMHead.from_pretrained(\"anonymous-german-nlp/german-gpt2\")\n",
        "\n",
        "\n",
        "training_args = TrainingArguments(\n",
        "    output_dir=\"./gpt2-gerchef\", #The output directory\n",
        "    overwrite_output_dir=True, #overwrite the content of the output directory\n",
        "    num_train_epochs=3, # number of training epochs\n",
        "    per_device_train_batch_size=32, # batch size for training\n",
        "    per_device_eval_batch_size=64,  # batch size for evaluation\n",
        "    eval_steps = 400, # Number of update steps between two evaluations.\n",
        "    save_steps=800, # after # steps model is saved \n",
        "    warmup_steps=500,# number of warmup steps for learning rate scheduler\n",
        "    )\n",
        "\n",
        "\n",
        "trainer = Trainer(\n",
        "    model=model,\n",
        "    args=training_args,\n",
        "    data_collator=data_collator,\n",
        "    train_dataset=train_dataset,\n",
        "    eval_dataset=test_dataset,\n",
        "    prediction_loss_only=True,\n",
        ")"
      ],
      "execution_count": null,
      "outputs": [
        {
          "output_type": "stream",
          "text": [
            "/usr/local/lib/python3.6/dist-packages/transformers/modeling_auto.py:821: FutureWarning: The class `AutoModelWithLMHead` is deprecated and will be removed in a future version. Please use `AutoModelForCausalLM` for causal language models, `AutoModelForMaskedLM` for masked language models and `AutoModelForSeq2SeqLM` for encoder-decoder models.\n",
            "  FutureWarning,\n"
          ],
          "name": "stderr"
        },
        {
          "output_type": "display_data",
          "data": {
            "application/vnd.jupyter.widget-view+json": {
              "model_id": "397127ff6468441ea881cfc75adfde99",
              "version_minor": 0,
              "version_major": 2
            },
            "text/plain": [
              "HBox(children=(FloatProgress(value=0.0, description='Downloading', max=675497284.0, style=ProgressStyle(descri…"
            ]
          },
          "metadata": {
            "tags": []
          }
        },
        {
          "output_type": "stream",
          "text": [
            "\n"
          ],
          "name": "stdout"
        },
        {
          "output_type": "stream",
          "text": [
            "/usr/local/lib/python3.6/dist-packages/transformers/trainer.py:247: FutureWarning: Passing `prediction_loss_only` as a keyword argument is deprecated and won't be possible in a future version. Use `args.prediction_loss_only` instead.\n",
            "  FutureWarning,\n"
          ],
          "name": "stderr"
        }
      ]
    },
    {
      "cell_type": "markdown",
      "metadata": {
        "id": "ZyQh0jlTqR6-",
        "colab_type": "text"
      },
      "source": [
        "# Train and save the model\n",
        "\n",
        "To train the model we can simply run `Trainer.train()`."
      ]
    },
    {
      "cell_type": "code",
      "metadata": {
        "id": "wjIzSWPTKzBf",
        "colab_type": "code",
        "colab": {
          "base_uri": "https://localhost:8080/",
          "height": 304,
          "referenced_widgets": [
            "076d3f1e92cb4756a9abfdb72634abe2",
            "a9a31313189e481099fdacfb29a31814",
            "4685f534f9494697bb48b47dba894498",
            "42a47311d4974a0cac8c8838569e2d15",
            "c3baa2a7e0a44aff8878111bf11035fa",
            "4ca8700b7366402196225e18481cbdc5",
            "e162971e55d44574bcb8cafa6d04a9f0",
            "bce75d4588db40559ab981884fed7181",
            "b2ed8ddaf8854e67a1ffdfeb761aeb3d",
            "d74e3e0e4e3e4e8a8971b1318e828792",
            "08f98d686e8748c3b9f2034beed8aaa4",
            "9ceefeced45c41a4835db893885642e9",
            "f5ffdc8f3f9140eabf87dc0075704881",
            "01a53a0500fa4892abc85f92b0b1e3b0",
            "b1faf3fc20df485e88bb38927e218227",
            "7ca3079967c24a6b9e0e12eedb0d5039",
            "1fed50d4629846689d7a2f1882c04af2",
            "d0ac18477d34479dab8ee97436a50a76",
            "8c3a6104ac2246cead360e1693ea3f80",
            "da2e2ab214a34b5ebeca3872c9d135da",
            "28d98f290f5a4bba82752baed0514d10",
            "c02eef75c5284117b589c2e905b79d85",
            "ad06ea9e77634b9f803eb047ee447905",
            "3f90b59bc9714d0db51f451d179590ae",
            "dcc8ed126f1348c6a54421491159aea3",
            "d5dd586942924306abb77af51053b404",
            "d0f54757c6bc434895e4670803ddb6c2",
            "2934540799384c48b9baef17d41ff860",
            "59803d0a03b24741a621b0b295196b57",
            "e0150ff888a04fb2b53b2a5d063ee9f7",
            "52bafc29eda5472fbdf62ae604ab1c2f",
            "b74e1c2488464b6abe46401d0521c734"
          ]
        },
        "outputId": "c210a2ee-c4ae-4bac-aef9-9f75ec9f3205"
      },
      "source": [
        "trainer.train()"
      ],
      "execution_count": null,
      "outputs": [
        {
          "output_type": "display_data",
          "data": {
            "application/vnd.jupyter.widget-view+json": {
              "model_id": "076d3f1e92cb4756a9abfdb72634abe2",
              "version_minor": 0,
              "version_major": 2
            },
            "text/plain": [
              "HBox(children=(FloatProgress(value=0.0, description='Epoch', max=3.0, style=ProgressStyle(description_width='i…"
            ]
          },
          "metadata": {
            "tags": []
          }
        },
        {
          "output_type": "display_data",
          "data": {
            "application/vnd.jupyter.widget-view+json": {
              "model_id": "b2ed8ddaf8854e67a1ffdfeb761aeb3d",
              "version_minor": 0,
              "version_major": 2
            },
            "text/plain": [
              "HBox(children=(FloatProgress(value=0.0, description='Iteration', max=495.0, style=ProgressStyle(description_wi…"
            ]
          },
          "metadata": {
            "tags": []
          }
        },
        {
          "output_type": "stream",
          "text": [
            "\n"
          ],
          "name": "stdout"
        },
        {
          "output_type": "display_data",
          "data": {
            "application/vnd.jupyter.widget-view+json": {
              "model_id": "1fed50d4629846689d7a2f1882c04af2",
              "version_minor": 0,
              "version_major": 2
            },
            "text/plain": [
              "HBox(children=(FloatProgress(value=0.0, description='Iteration', max=495.0, style=ProgressStyle(description_wi…"
            ]
          },
          "metadata": {
            "tags": []
          }
        },
        {
          "output_type": "stream",
          "text": [
            "{'loss': 2.84846630859375, 'learning_rate': 5e-05, 'epoch': 1.0101010101010102, 'step': 500}\n"
          ],
          "name": "stdout"
        },
        {
          "output_type": "stream",
          "text": [
            "/usr/local/lib/python3.6/dist-packages/torch/optim/lr_scheduler.py:200: UserWarning: Please also save or load the state of the optimzer when saving or loading the scheduler.\n",
            "  warnings.warn(SAVE_STATE_WARNING, UserWarning)\n"
          ],
          "name": "stderr"
        },
        {
          "output_type": "stream",
          "text": [
            "\n"
          ],
          "name": "stdout"
        },
        {
          "output_type": "display_data",
          "data": {
            "application/vnd.jupyter.widget-view+json": {
              "model_id": "dcc8ed126f1348c6a54421491159aea3",
              "version_minor": 0,
              "version_major": 2
            },
            "text/plain": [
              "HBox(children=(FloatProgress(value=0.0, description='Iteration', max=495.0, style=ProgressStyle(description_wi…"
            ]
          },
          "metadata": {
            "tags": []
          }
        },
        {
          "output_type": "stream",
          "text": [
            "{'loss': 2.183541015625, 'learning_rate': 2.4619289340101523e-05, 'epoch': 2.0202020202020203, 'step': 1000}\n",
            "\n",
            "\n"
          ],
          "name": "stdout"
        },
        {
          "output_type": "execute_result",
          "data": {
            "text/plain": [
              "TrainOutput(global_step=1485, training_loss=2.3330630523989897)"
            ]
          },
          "metadata": {
            "tags": []
          },
          "execution_count": 9
        }
      ]
    },
    {
      "cell_type": "markdown",
      "metadata": {
        "id": "lHXqTv8kqxpJ",
        "colab_type": "text"
      },
      "source": [
        "After training is done you can save the model by calling `save_model()`. This will save the trained model to our `output_dir` from our `TrainingArguments`."
      ]
    },
    {
      "cell_type": "code",
      "metadata": {
        "id": "Q5quyGeMNdjE",
        "colab_type": "code",
        "colab": {}
      },
      "source": [
        "trainer.save_model()"
      ],
      "execution_count": null,
      "outputs": []
    },
    {
      "cell_type": "markdown",
      "metadata": {
        "id": "PGEiQ1mhOyNv",
        "colab_type": "text"
      },
      "source": [
        "# Test the model\n",
        "\n",
        "To test the model we are going to use another [highlight of the transformers library](https://huggingface.co/transformers/main_classes/pipelines.html?highlight=pipelines) called `pipeline`. [Pipelines](https://huggingface.co/transformers/main_classes/pipelines.html?highlight=pipelines) are objects that offer a simple API dedicated to several tasks, among others also `text-generation`"
      ]
    },
    {
      "cell_type": "code",
      "metadata": {
        "id": "Fh4Q1BR0OtDo",
        "colab_type": "code",
        "colab": {}
      },
      "source": [
        "from transformers import pipeline\n",
        "\n",
        "chef = pipeline('text-generation',model='./gpt2-gerchef', tokenizer='anonymous-german-nlp/german-gpt2',config={'max_length':800})\n",
        "\n",
        "#result = chef('Zuerst Hähnchen')[0]['generated_text']\n"
      ],
      "execution_count": null,
      "outputs": []
    },
    {
      "cell_type": "code",
      "metadata": {
        "id": "laDp891gO25V",
        "colab_type": "code",
        "colab": {
          "base_uri": "https://localhost:8080/",
          "height": 52
        },
        "outputId": "7c2074d6-adcd-42e7-aed5-0c0c86a18b28"
      },
      "source": [
        "chef('Die Nudeln Kochen, Fleisch anbraten')"
      ],
      "execution_count": null,
      "outputs": [
        {
          "output_type": "stream",
          "text": [
            "Setting `pad_token_id` to 50256 (first `eos_token_id`) to generate sequence\n"
          ],
          "name": "stderr"
        },
        {
          "output_type": "execute_result",
          "data": {
            "text/plain": [
              "[{'generated_text': 'Die Nudeln Kochen, Fleisch anbraten, Tomaten- und Erbsenzehen abgießen, etwas Tomatenmark, Brühepulver und Wein angießen, aufkochen lassen. Tomaten, Erbsenzehen, Tomaten- und Erbsenz'}]"
            ]
          },
          "metadata": {
            "tags": []
          },
          "execution_count": 12
        }
      ]
    },
    {
      "cell_type": "code",
      "metadata": {
        "id": "BKXhAiBuvga9",
        "colab_type": "code",
        "colab": {
          "base_uri": "https://localhost:8080/",
          "height": 52
        },
        "outputId": "84753c16-9869-4048-8402-6c88d90be929"
      },
      "source": [
        "chef('Zuerst Hähnchen')"
      ],
      "execution_count": null,
      "outputs": [
        {
          "output_type": "stream",
          "text": [
            "Setting `pad_token_id` to 50256 (first `eos_token_id`) to generate sequence\n"
          ],
          "name": "stderr"
        },
        {
          "output_type": "execute_result",
          "data": {
            "text/plain": [
              "[{'generated_text': 'Zuerst Hähnchen innen und außen salzen, pfeffern und in Olivenöl kurz anbraten. Mit Pfeffer pfeffern. Anschließend Knoblauch dazu pressen und mit etwas Wasser angießen, so dass die Brühe einen goldbraunen Brä'}]"
            ]
          },
          "metadata": {
            "tags": []
          },
          "execution_count": 13
        }
      ]
    },
    {
      "cell_type": "code",
      "metadata": {
        "id": "J9Fixx4Iosih",
        "colab_type": "code",
        "colab": {
          "base_uri": "https://localhost:8080/",
          "height": 52
        },
        "outputId": "32ca6b17-bd85-4a95-9b49-9a2e14b427a6"
      },
      "source": [
        "chef('Der beste Weg, um einen Schokoladenkuchen zuzubereiten, ist')\n"
      ],
      "execution_count": null,
      "outputs": [
        {
          "output_type": "stream",
          "text": [
            "Setting `pad_token_id` to 50256 (first `eos_token_id`) to generate sequence\n"
          ],
          "name": "stderr"
        },
        {
          "output_type": "execute_result",
          "data": {
            "text/plain": [
              "[{'generated_text': 'Der beste Weg, um einen Schokoladenkuchen zuzubereiten, ist, ihn auf einem Holzspießchen unter fließend kaltem Wasser zu fixieren.Das Ergebnis ist eine knackige Konsistenz der Eier. Eierkuchen schmecken schön knusprig,'}]"
            ]
          },
          "metadata": {
            "tags": []
          },
          "execution_count": 15
        }
      ]
    },
    {
      "cell_type": "code",
      "metadata": {
        "id": "hKBSyNLgqF9K",
        "colab_type": "code",
        "colab": {
          "base_uri": "https://localhost:8080/",
          "height": 53
        },
        "outputId": "78f249c8-1443-43c6-8fda-a160a5ca865f"
      },
      "source": [
        "chef('Zuerst Hähnchen')[0]['generated_text']"
      ],
      "execution_count": null,
      "outputs": [
        {
          "output_type": "stream",
          "text": [
            "Setting `pad_token_id` to 50256 (first `eos_token_id`) to generate sequence\n"
          ],
          "name": "stderr"
        },
        {
          "output_type": "execute_result",
          "data": {
            "application/vnd.google.colaboratory.intrinsic+json": {
              "type": "string"
            },
            "text/plain": [
              "'Zuerst Hähnchen und Zwiebeln in Butter anbraten. Paprika, Paprikastreifen und Tomatenmark zufügen. Brühe hinzugeben und aufkochen. Alles ca. 25 - 30 Minuten köcheln lassen.Die Suppe zum Servieren in'"
            ]
          },
          "metadata": {
            "tags": []
          },
          "execution_count": 18
        }
      ]
    }
  ]
}
